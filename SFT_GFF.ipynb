{
 "cells": [
  {
   "cell_type": "code",
   "execution_count": null,
   "id": "b849b271",
   "metadata": {},
   "outputs": [],
   "source": [
    "\n",
    "import numpy as np\n",
    "import matplotlib.pyplot as plt\n",
    "from matplotlib import rc\n",
    "rc('font', **{ \"size\":16}) #**{,,'serif':['Palatino']\n",
    "rc('text', usetex=True)\n",
    "import numpy.random as rnd\n",
    "rnd.seed()\n",
    "import scipy.sparse as sp\n",
    "import scipy.sparse.linalg as sla\n",
    "import scipy.linalg as la\n",
    "from scipy.optimize import brentq as solve\n",
    "from scipy.integrate import odeint as ode\n",
    "from scipy.special import gamma\n",
    "np.set_printoptions(precision = 3, suppress = 1)\n",
    "from matplotlib import cm\n",
    "color = cm.get_cmap(\"Blues\")"
   ]
  },
  {
   "cell_type": "markdown",
   "id": "25c75e13",
   "metadata": {},
   "source": [
    "# Free field in 1D with long range interaction\n",
    "\n",
    "We would like to construct a lattice regularization of the fractional Gaussian free field in 1D. That is defined by the Hamiltonian \n",
    "#### $$ H \\propto \\frac12 \\int \\frac{|\\phi(x) - \\phi(y)|^2}{|x-y|^{\\alpha + 1}} \\mathrm{d} x \\mathrm{d} y     $$\n",
    "In the continuum. Here $\\alpha > 0$ will control the scaling properties of the field. It somehow allows to change \"dimension\" while staying at 1D. \n",
    "\n",
    "For technical reasons (related to Fourier transform), it is more convenient to consider a complex-valued field\n",
    "#### $$ \\phi = \\varphi + \\mathrm{i}\\psi$$\n",
    "Note that the action simply decouples into the real and imaginary parts, so we get two indepedent real fields. \n",
    "\n",
    "-------------------------------\n",
    "Putting a field theory on the computer always requires a UV cutoff and an IR cutoff. In simple problems (without an intermediate scale), there are two conventions/point of views:\n",
    "- The \"continuum\"/field theory/IR point of view, where the IR cutoff is O(1), and the UV cutoff is $1/M$.\n",
    "- The \"infinite lattice\"/stat-mech/UV point of view, where the UV cutoff is O(1), and the IR cutoff is $M$.\n",
    "Here we are taking a continuum point of view. \n",
    "---------------------------------\n",
    "\n",
    "\n",
    "\n",
    "## Lattice regularization: continuum (IR) point of view\n",
    "Let us put it on a periodic lattice of with $M$ sites. Then the lattice Hamiltonian reads \n",
    "#### $$ H = \\frac12 \\sum_{i<j} \\frac{|\\phi_i - \\phi_j|^2}{r_{i-j}^{\\alpha + 1}} \\,,\\,\n",
    "r_{ij} = \\sin(\\pi \\frac{|i-j|}M) $$\n",
    "Note that $r_{ij}$ is (proportional) the arc length between $i$ and $j$ if the lattice points are placed uniformly on a circle. It captures the power law behavior of the continuum Hamiltonian as $|i-j| \\ll M$. \n",
    "\n",
    "- By introducing the Fourier modes \n",
    "#### $$ \\phi_j = \\sum_{k=1}^M e^{\\mathbf{i} 2 \\pi k j / M } \\hat{\\phi}_k \\,,\\, \n",
    " \\hat\\phi_k = \\frac1L \\sum_{j=1}^M e^{-\\mathbf{i} 2 \\pi k j / M } {\\phi}_j $$\n",
    "write $H$ in a diagonal form\n",
    "#### $$ H = \\frac12 \\sum_{k=1}^M |\\hat{\\phi}_k|^2 G_k^{-1} \\,. $$\n",
    "Show that $G_k^{-1}$ is the Fourier transform of ....\n",
    "\n",
    "- Conclude that $\\hat{\\phi}_k$ are independent complex random variables, whose real and imaginary parts are independent centred Gaussian with variance $G_k$. \n",
    "\n",
    "\n",
    "### The behavior of $G_k$\n",
    "\n",
    "Below we calculate numerically $G_k$ by Fourier transform. Observe the behavior of $G_k$. Can you understand the power law? \n",
    "\n",
    "*(Optional)* Can we attempt to predict the prefactor from the continuum? For this we might need the formula (in 1d, see exercise sheet)\n",
    "#### $$  \\int |x|^{-2a}  e^{\\mathbf{i} x k} \\mathrm{d} x =  C(a) |k|^{2a-1} + A_0 + A_2 k^2 + \\dots \\,,\\,  \n",
    "   C(a) = \\frac{\\pi^{\\frac{1}2} 2^{1-2 a} \\Gamma \\left(\\frac12 -a\\right)}{\\Gamma (a)} \\,, $$\n",
    " where $A_0, A_2$ are UV dependent constants (these terms appear only when the dominate $k^{2a-1}$ at small $k$.\n",
    " *(All questions below about prefactors are optional)*"
   ]
  },
  {
   "cell_type": "code",
   "execution_count": null,
   "id": "23746f19",
   "metadata": {},
   "outputs": [],
   "source": [
    "M = 2 ** 15\n",
    "alpha = 1.5\n",
    "rs = np.sin(np.arange(M) / M * np.pi)\n",
    "rs[0]=1 # just to avoid a warning message\n",
    "rhos = -1./rs ** (1 + alpha)  # 1/r^(alpha+1)\n",
    "rhos[0]= -np.sum(rhos[1:])  # why? do you understand\n",
    "Gkinverse = np.fft.ifft(rhos)"
   ]
  },
  {
   "cell_type": "code",
   "execution_count": null,
   "id": "f50f5db5",
   "metadata": {},
   "outputs": [],
   "source": [
    "xs = np.arange(1,M) / M\n",
    "plt.loglog(xs, abs(rhos[1:]))\n",
    "plt.xlabel(r\"$(j-i)/M$\")\n",
    "plt.ylabel(r\"$|r_{ij}|^{-\\alpha-1}$\")"
   ]
  },
  {
   "cell_type": "code",
   "execution_count": null,
   "id": "cc1de4b3",
   "metadata": {},
   "outputs": [],
   "source": [
    "qs = np.arange(1,M)\n",
    "plt.loglog(qs, abs(Gkinverse[1:]), \"--\", label=\"numerics\", c=\"b\")\n",
    "a = (alpha + 1)/2\n",
    "#C = -np.pi**(1/2) * 2 ** (1/2 - 2 * a)  * gamma(1/2-a) / gamma(a)  / np.pi / 2 * 2 ** (alpha+1)\n",
    "C = -np.pi**(1/2) * 2 ** (1 - 2 * a)  * gamma(1/2-a) / gamma(a)  / (np.pi * 2) * 2 ** (alpha+1)\n",
    "plt.plot(qs[:M//2], qs[:M//2] ** (alpha) * C  , label=\"prediction\", c=\"k\")\n",
    "plt.legend()\n",
    "plt.xlabel(\"$K$\")\n",
    "plt.ylabel(\"$G_k$\")"
   ]
  },
  {
   "cell_type": "markdown",
   "id": "8ee2f1d1",
   "metadata": {},
   "source": [
    "\n",
    "- Where does the prediction work? Why (a priori, we are computing a discrete Fourier transform; how can the result be captured by a continuous Fourier transform)?\n",
    "\n",
    "You can encouraged to change the short ($|i-j| \\sim 1$) or long ($|i-j|\\sim L$) distance regularization of the space-domain propagator $1/r_{i-j}^{\\alpha+1}$. As long as the scaling regime $1\\ll |i-j| \\ll L$ remains the same, the scaling regime of $G_k$ is predicted by a continuum calculation. Such freedom is often used by numericists to minimize finite size effects. \n",
    "\n",
    "*There is one choice that makes $G_k \\propto k^{\\alpha}$ exact at small $k$. The real space expression involves a polylog.*"
   ]
  },
  {
   "cell_type": "markdown",
   "id": "dd041dcf",
   "metadata": {},
   "source": [
    "### Long range or short range?\n",
    "- Repeat the above for a value $\\alpha > 2$. What is the power law behavior of $G_k$? Do you understand?\n",
    "Indeed, for $\\alpha > 2$, even though the interaction is still long range, the inverse propagator $G_k^{-1} \\sim k^2$ has the same behavior as the usual (short-range) GFF.\n",
    "\n",
    "We can bypass this \"limitation\" by defining fractional GFFs directly by $G_k^{-1} \\sim k^{\\alpha}$, even for $\\alpha > 2$. \n",
    "\n",
    "--------------------------------------\n",
    "For the curious, that corresponds to a Hamiltonian of type \n",
    "####  $$H = \\int \\frac{(\\phi(x) - \\phi(y))^2}{|x-y|^{\\alpha+1}} \\mathrm{d} x  \\mathrm{d} y + \\int A (\\nabla \\phi(x))^2 \\mathrm{d} x  $$\n",
    "The second term is a \"counter term\" whose goal is to cancel the $k^2$ contained in the first term; the constant $A$ depends on the UV cutoff.\n",
    "--------------------------------- ----------"
   ]
  },
  {
   "cell_type": "markdown",
   "id": "9c20698f",
   "metadata": {},
   "source": [
    "## Generating GFF (from $G_k^{-1}$)\n",
    "\n",
    "In what follows we shall take as granted the relation between $G_k^{-1}$ and the real-space action, which we studied above. Therefore we will use a \"perfect\" $G_k$ such that $G_k^{-1} = |k|^{\\alpha}$ for small $|k| \\ll M$. That means the action will be\n",
    "$$ S \\approx \\frac12 \\sum_k |k|^{\\alpha}|\\hat\\phi(k)|^2 $$\n",
    "in the momentum space. The \"$\\approx$\" means that the equation is exact at small $k \\ll M$, while a UV regularization is understood for $k \\sim M$.\n",
    "\n",
    "### The issue of zero mode\n",
    "There is an immediate trouble: $G_{k=0} = +\\infty!$ (why) This is called the zero mode of the GFF, that describes the center of mass of $\\phi$. Since the action is invariant under a tra/nslation of $\\phi$, the center of mass is not constrained and can move freely. One can remedy this by adding a mass, $G_{k=0}^{-1} \\to G_{k=0}^{-1} + m^2$. Alternatively (this is what we shall do), we can specify *ad hoc* that \n",
    "#### $$ \\hat{\\phi}_{k=0} \\equiv 0 $$\n",
    "in every realization."
   ]
  },
  {
   "cell_type": "markdown",
   "id": "df2b8b86",
   "metadata": {},
   "source": [
    "\n",
    "\n",
    "We can now generat some fractional Gaussian free fields. "
   ]
  },
  {
   "cell_type": "code",
   "execution_count": null,
   "id": "d1e37e74",
   "metadata": {},
   "outputs": [],
   "source": [
    "#preparation\n",
    "def get_Gk_0(M, alpha):\n",
    "    \"\"\"\n",
    "    prepare the propagator (from the real space Hamiltonian)\n",
    "    parameters: L (system size) and alpha (long range exponent)\n",
    "    \"\"\"\n",
    "    rs = np.sin(np.arange(M) / M * np.pi)\n",
    "    rs[0]=1 # just to avoid a warning message\n",
    "    rhos = -1./rs ** (1 + alpha)  # 1/r^(alpha+1)\n",
    "    rhos[0]= -np.sum(rhos[1:])  # why? do you understand\n",
    "    Gkinverse = np.fft.ifft(rhos)\n",
    "    Gkinverse[0] = 1 #to avoid a waring\n",
    "    Gk = 1/Gkinverse \n",
    "    Gk[0] = 0 # set zero mode to 0\n",
    "    return Gk\n",
    "def get_Gk(M, alpha):\n",
    "    \"\"\"\n",
    "    prepare the propagator.\n",
    "    parameters: L (system size) and alpha (long range exponent)\n",
    "    \"\"\"\n",
    "    Gk = np.sin(np.arange(M)/M*np.pi) / np.pi * M\n",
    "    #Gk = M//2 - abs(M//2-np.arange(M))\n",
    "    Gk[0] = 1\n",
    "    Gk = Gk ** -alpha\n",
    "    Gk[0] = 0\n",
    "    return Gk\n",
    "def generate():\n",
    "    \"\"\"generate a GFF with the propagator G_k\n",
    "    \"\"\"\n",
    "    return np.fft.fft(( rnd.randn(M) +  rnd.randn(M) * 1.j) * (Gk ** .5)).real"
   ]
  },
  {
   "cell_type": "code",
   "execution_count": null,
   "id": "b9bda799",
   "metadata": {},
   "outputs": [],
   "source": [
    "M = 2 ** 12\n",
    "fig,ax= plt.subplots(3,1,figsize = (8, 8),sharex=\"all\")\n",
    "xs = np.arange(M) / M\n",
    "for j,alpha in enumerate([.5,1.,1.5]):\n",
    "    Gk = get_Gk(M, alpha)\n",
    "    phi = np.fft.fft(( rnd.randn(M) +  rnd.randn(M) * 1.j) * (Gk ** .5)).real\n",
    "    plt.sca(ax[j])\n",
    "    plt.plot(xs,phi)\n",
    "    plt.title(r\"$\\alpha=%g$\" % alpha)\n",
    "    plt.ylabel(r\"$\\varphi_i$\")\n",
    "plt.xlabel(\"$i/M = x / (2\\pi) $\")"
   ]
  },
  {
   "cell_type": "markdown",
   "id": "fb0aff80",
   "metadata": {},
   "source": [
    "Do you notice qualitative differences as $\\alpha$ crosses $1$?"
   ]
  },
  {
   "cell_type": "markdown",
   "id": "141e9d22",
   "metadata": {},
   "source": [
    "##  Green function in real space\n",
    "\n",
    "- Show that in general\n",
    "#### $$ \\left< \\varphi_0 \\varphi_j\\right> = \\sum_{k \\ne 0} G_k e^{\\mathrm{i} k j 2 \\pi / L} $$\n",
    "\n",
    "Below is a benchmark of this. In what follows we will use directly this formula to calculate the Green function in real space, rather than sampling."
   ]
  },
  {
   "cell_type": "code",
   "execution_count": null,
   "id": "7510a231",
   "metadata": {},
   "outputs": [],
   "source": [
    "lb= 5\n",
    "M = 2 ** lb\n",
    "alpha = 1.\n",
    "Gk = get_Gk(M, alpha)\n",
    "sqrtGk = (Gk ** .5)\n",
    "rs = np.arange(1, M, M//16)\n",
    "ans = np.zeros(len(rs) + 1, dtype=float)\n",
    "for j in range(1000):\n",
    "    phi = np.fft.fft(( rnd.randn(M) +  rnd.randn(M) * 1.j) * sqrtGk ).real\n",
    "    for i, r in enumerate(rs):\n",
    "        contribution = np.mean(phi * np.roll(phi, r))\n",
    "        ans[i+1] += contribution  \n",
    "    ans[0] += 1\n",
    "#\n",
    "ys= ans[1:]/ans[0]\n",
    "plt.plot(rs / M,ys , marker= \"o\", ls=\"\", label =\"numerics\", c = \"r\")\n",
    "xs = np.arange(1, M)\n",
    "ys = np.fft.fft(Gk).real\n",
    "plt.plot(xs / M, ys[1:], label=\"exact\", c= \"k\")\n",
    "plt.xlabel(r\"$j / M$\")\n",
    "plt.ylabel(r\"$G(x)$\")\n",
    "plt.legend()"
   ]
  },
  {
   "cell_type": "markdown",
   "id": "bd540a72",
   "metadata": {},
   "source": [
    "Let us look at the different cases in turn (leaving $\\alpha = 1$ to later).\n",
    "\n",
    "### $\\alpha < 1$\n",
    "\n",
    "- Show that \n",
    "$$ \\left< \\varphi_0 \\varphi_j\\right> \\propto x^{-(1-\\alpha)} \\,,\\, x = j/M$$\n",
    "- Can you pin down the prefactor?\n",
    "- What is the scaling dimension of the field? \n",
    "- It is said that in the continuum limit, $\\varphi$ is not a function, but only a distribution. Do you understand this?"
   ]
  },
  {
   "cell_type": "code",
   "execution_count": null,
   "id": "438b75fe",
   "metadata": {},
   "outputs": [],
   "source": [
    "alpha = .5\n",
    "for M in 2** np.array([16,14,12 ]):\n",
    "    xs =np.arange(1,M) / M * np.pi * 2\n",
    "    Gk = get_Gk(M, alpha)\n",
    "    Gr = np.fft.fft(Gk).real\n",
    "    plt.loglog(xs, Gr[1:],  label=r\"$M = %d$\" % M)\n",
    "plt.legend()\n",
    "plt.ylabel(r\"$\\left< \\varphi_i \\varphi_0 \\right>$\")\n",
    "plt.xlabel(\"$i/M=x/(2\\pi)$\")\n",
    "xs = np.linspace(1e-4, .1, 5)\n",
    "a = alpha / 2\n",
    "#C = gamma(1-alpha) * np.sin(np.pi / 2 * alpha) * 2 #np.pi**(1/2) * 2 ** (1/2 - 2 * a)  * gamma(1/2-a) / gamma(a) \n",
    "C = np.pi**(1/2) * 2 ** (1 - 2 * a)  * gamma(1/2-a) / gamma(a)\n",
    "plt.plot(xs , xs ** (alpha - 1) * C , c = \"k\", ls=\"--\")\n",
    "plt.ylim(1e-1, 5e2)"
   ]
  },
  {
   "cell_type": "markdown",
   "id": "d3278643",
   "metadata": {},
   "source": [
    "### $\\alpha > 1$\n",
    "\n",
    "- Is there a UV divergence?\n",
    "- Show that \n",
    "$$ \\left< \\varphi_0 \\varphi_0\\right> - \\left< \\varphi_0 \\varphi_j\\right> \\sim x^{\\alpha-1}  \\,,\\, x = j/M$$\n",
    "- Can you pin down the prefactor?\n",
    "- How does $\\left< \\varphi_0 \\varphi_0\\right> $ behave?\n",
    "- What is the scaling dimension of the field? "
   ]
  },
  {
   "cell_type": "code",
   "execution_count": 82,
   "id": "a1e7ff2c",
   "metadata": {},
   "outputs": [
    {
     "name": "stdout",
     "output_type": "stream",
     "text": [
      "M = 16384\n",
      "M = 4096\n",
      "M = 1024\n"
     ]
    },
    {
     "data": {
      "image/png": "[encoded data removed]",
      "text/plain": [
       "<Figure size 432x288 with 1 Axes>"
      ]
     },
     "metadata": {
      "needs_background": "light"
     },
     "output_type": "display_data"
    }
   ],
   "source": [
    "alpha = 1.6\n",
    "for M in 2** np.array([14, 12, 10]):\n",
    "    xs =np.arange(1,M) / M * np.pi *2\n",
    "  \n",
    "\n",
    "    Gk = get_Gk(M, alpha)\n",
    "    Gk[0] = 0\n",
    "    Gr = np.fft.fft(Gk).real\n",
    "    plt.loglog(xs, Gr[1:],  label=r\"$M = %d$\" % M)\n",
    "    print(\"M = %d\" % M)\n",
    "plt.legend()\n",
    "plt.ylabel(r\"$\\left< \\varphi_i \\varphi_0 \\right>$\")\n",
    "plt.xlabel(\"$i/L = x / (2\\pi)$ \")\n",
    "xs = np.linspace(.5e-3, 1, 5)\n",
    "#a = alpha / 2\n",
    "plt.yscale(\"linear\")\n",
    "#plt.plot(xs, xs ** (alpha - 1) * C, c = \"k\", ls = \"--\")"
   ]
  },
  {
   "cell_type": "code",
   "execution_count": null,
   "id": "8fce9ec2",
   "metadata": {},
   "outputs": [],
   "source": [
    "alpha = 1.6\n",
    "for M in 2** np.array([14, 12, 10]):\n",
    "    xs =np.arange(1,M) / M * np.pi *2\n",
    "  \n",
    "\n",
    "    Gk = get_Gk(M, alpha)\n",
    "    Gk[0] = 0\n",
    "    Gr = np.fft.fft(Gk).real\n",
    "    plt.loglog(xs, Gr[0] - Gr[1:],  label=r\"$M = %d$\" % M)\n",
    "    print(\"M = %d\" % M)\n",
    "plt.legend()\n",
    "plt.ylabel(r\"$\\left< \\varphi_i \\varphi_0 \\right>$\")\n",
    "plt.xlabel(\"$i/L = x / (2\\pi)$ \")\n",
    "xs = np.linspace(.5e-3, 1, 5)\n",
    "a = alpha / 2\n",
    "C = -np.pi**(1/2) * 2 ** (1 - 2 * a)  * gamma(1/2-a) / gamma(a) \n",
    "plt.plot(xs, xs ** (alpha - 1) * C, c = \"k\", ls = \"--\")"
   ]
  },
  {
   "cell_type": "markdown",
   "id": "c56f68b9",
   "metadata": {},
   "source": [
    "## Lattice regularization: the lattice (UV) point of view\n",
    "\n",
    "Now, we set lattice spacing to be $1$, so $x = j$, then the physical momenta $q = 2\\pi k / M \\in [0, 2\\pi]$ are defined inside a Broullin zone. We still want the GFF to be governed by an action \n",
    "$$ S = \\int_{\\text{BZ}} G_q^{-1} |\\hat{\\phi}_q|^2  d q \\,,\\, G_q^{-1} \\approx |q|^{\\alpha}  $$\n",
    "for small $q$. Note that \n",
    "$$ \\hat{\\phi}_q = \\sum_j e^{\\mathrm{i} q j} \\phi_j $$\n",
    "\n",
    "- Repeat the logic above to figure out how to generate the GFF in this setting. \n",
    "\n",
    "Observe the fields generated below, paying particular attention to the value of the field."
   ]
  },
  {
   "cell_type": "code",
   "execution_count": null,
   "id": "b8b071c2",
   "metadata": {},
   "outputs": [],
   "source": [
    "#preparation\n",
    "def get_Gk_UV(M, alpha):\n",
    "    \"\"\"\n",
    "    prepare the propagator.\n",
    "    parameters: M (system size) and alpha (long range exponent)\n",
    "    \"\"\"\n",
    "    Gk = np.sin(np.arange(M)/M*np.pi) * 2\n",
    "    Gk[0] = 1\n",
    "    Gk = Gk ** -alpha\n",
    "    Gk[0] = 0\n",
    "    return Gk"
   ]
  },
  {
   "cell_type": "code",
   "execution_count": null,
   "id": "40284a20",
   "metadata": {},
   "outputs": [],
   "source": [
    "M = 2 ** 12\n",
    "fig,ax= plt.subplots(3,1,figsize = (8, 8),sharex=\"all\")\n",
    "xs = np.arange(M) \n",
    "for j,alpha in enumerate([.5,1.,2.]):\n",
    "    Gk = get_Gk_UV(M, alpha)\n",
    "    phi = np.fft.ifft(( rnd.randn(M) +  rnd.randn(M) * 1.j) * (Gk ** .5)).real * (M ** .5) * ((np.pi *2) ** .5)\n",
    "    plt.sca(ax[j])\n",
    "    plt.plot(xs,phi)\n",
    "    plt.title(r\"$\\alpha=%g$\" % alpha)\n",
    "    plt.ylabel(r\"$\\varphi_i$\")\n",
    "plt.xlabel(\"$x = i$\")"
   ]
  },
  {
   "cell_type": "markdown",
   "id": "f588ef30",
   "metadata": {},
   "source": [
    "We again look at the propagator in space domain, with $\\alpha < 1$ and $\\alpha > 1$.\n",
    "\n",
    "Argue that \n",
    "- for $\\alpha < 1$, $\\left< \\varphi_i^2 \\right>$ is finite in the thermodynamic limit. \n",
    "- For $\\alpha > 1$, $\\left< \\varphi_i^2 \\right> \\sim M^{\\alpha - 1}$. The field has wider fluctuations in larger system sizes. In the context of statistical mechanics (surface growth, etc), we say the interface is \"rough\", with a Hurst roughness exponent \n",
    "#### $$ H = \\frac{\\alpha - 1}2$$ \n",
    "$H$ is essentially the opposite of the scaling dimension!\n",
    "\n",
    "- What is the relation between the two lattice regularizations? Argue that the relation is exactly the same as between a microscopic operator and its scaling limit, i.e.,\n",
    "#### $$ \\varphi^{\\text{(UV)}}(x) = b^{-\\Delta} \\varphi^{\\text{(IR)}}(x / b) \\,,\\, \\Delta = \\frac{1 - \\alpha}{2} $$\n",
    "where $b = M / (2\\pi)$."
   ]
  },
  {
   "cell_type": "code",
   "execution_count": null,
   "id": "77f94572",
   "metadata": {},
   "outputs": [],
   "source": [
    "alpha = .5\n",
    "for M in 2** np.array([16,14,12 ]):\n",
    "    xs =np.arange(1,M) \n",
    "    Gk = get_Gk_UV(M, alpha)\n",
    "    Gr = np.fft.ifft(Gk).real * np.pi * 2\n",
    "    plt.loglog(xs, Gr[1:],  label=r\"$M = %d$\" % M)\n",
    "plt.legend()\n",
    "plt.ylabel(r\"$\\left< \\varphi_i \\varphi_0 \\right>$\")\n",
    "plt.xlabel(\"$i$\")\n",
    "xs = np.linspace(1, 1000, 5)\n",
    "a = alpha / 2 \n",
    "C = np.pi**(1/2) * 2 ** (1 - 2 * a)  * gamma(1/2-a) / gamma(a) \n",
    "plt.plot(xs , xs ** (alpha - 1) * C , c = \"k\", ls=\"--\")"
   ]
  },
  {
   "cell_type": "code",
   "execution_count": 87,
   "id": "f70241f8",
   "metadata": {},
   "outputs": [
    {
     "data": {
      "image/png": "[encoded data removed]",
      "text/plain": [
       "<Figure size 432x288 with 1 Axes>"
      ]
     },
     "metadata": {
      "needs_background": "light"
     },
     "output_type": "display_data"
    }
   ],
   "source": [
    "alpha = 1.5\n",
    "for M in 2** np.array([16,14,12 ]):\n",
    "    xs =np.arange(1,M) \n",
    "    Gk = get_Gk_UV(M, alpha)\n",
    "    Gr = np.fft.ifft(Gk).real * np.pi * 2\n",
    "    plt.loglog(xs,  Gr[1:],  label=r\"$M = %d$\" % M)\n",
    "plt.legend()\n",
    "plt.ylim(10, 1e3)\n",
    "plt.ylabel(r\"$\\left< \\varphi_i \\varphi_0 \\right>$\")\n",
    "plt.xlabel(\"$i$\")\n",
    "xs = np.linspace(1, 10000, 5)\n"
   ]
  },
  {
   "cell_type": "code",
   "execution_count": null,
   "id": "2d4f0583",
   "metadata": {},
   "outputs": [],
   "source": [
    "alpha = 1.5\n",
    "for M in 2** np.array([16,14,12 ]):\n",
    "    xs =np.arange(1,M) \n",
    "    Gk = get_Gk_UV(M, alpha)\n",
    "    Gr = np.fft.ifft(Gk).real * np.pi * 2\n",
    "    plt.loglog(xs, Gr[0] - Gr[1:],  label=r\"$M = %d$\" % M)\n",
    "plt.legend()\n",
    "plt.ylabel(r\"$\\left< \\varphi_0 \\varphi_0 \\right> - \\left< \\varphi_i \\varphi_0 \\right>$\")\n",
    "plt.xlabel(\"$i$\")\n",
    "xs = np.linspace(1, 10000, 5)\n",
    "a = alpha / 2\n",
    "#C = gamma(1-alpha) * np.sin(np.pi / 2 * alpha) * 2 #np.pi**(1/2) * 2 ** (1/2 - 2 * a)  * gamma(1/2-a) / gamma(a) \n",
    "C = -np.pi**(1/2) * 2 ** (1 - 2 * a)  * gamma(1/2-a) / gamma(a) \n",
    "plt.plot(xs , xs ** (alpha - 1) * C , c = \"k\", ls=\"--\")"
   ]
  },
  {
   "cell_type": "markdown",
   "id": "7d159a69",
   "metadata": {},
   "source": [
    "## The log case\n",
    "\n",
    "When $\\alpha = 1$, the scaling dimension is $0$, and the roughness exponent is $0$. The amplitude of the field looks the same from UV and IR point of view. \n",
    "\n",
    "In fact, the propagator is logarithmically divergent: the Fourier transform of $1/|k|$ in 1D, and $1/|k|^d$ in d dimension in general, are all logarithmic in $x$. One can see that by taking a limit of the power law Fourier transform formula (the prefactor $C(a)$ has a pole which leads to log correction to scaling.)\n",
    "\n",
    "In particular, $\\left< \\varphi_i^2 \\right> \\sim \\ln M$. This divergence is neither a UV nor an IR divergence: it comes from all the scales. So there is no good way to get rid of it (in contrast to $\\alpha < 1$ and $\\alpha > 1$); one should rather embrace the interesting physics it brings.\n",
    "\n",
    "We shall study in the detail the log-correlated fields in 2D instead, because the 2D Gaussian free field is naturally log-correlated. It is more important (and nicer looking) than its 1D cousin (aka $1/f$ noise). "
   ]
  },
  {
   "cell_type": "code",
   "execution_count": null,
   "id": "5af052e0",
   "metadata": {},
   "outputs": [],
   "source": [
    "alpha = 1\n",
    "for M in 2** np.array([16,14,12 ]):\n",
    "    xs =np.arange(1,M) / M\n",
    "    Gk = get_Gk_UV(M, alpha)\n",
    "    Gr = np.fft.ifft(Gk).real\n",
    "    plt.loglog(xs, Gr[1:],  label=r\"$M = %d$\" % M)\n",
    "plt.legend()\n",
    "plt.yscale(\"linear\")\n",
    "plt.ylabel(r\"$\\left< \\varphi_i \\varphi_0 \\right>$\")\n",
    "plt.xlabel(\"$i / M$\")\n",
    "xs = np.linspace(1e-4, 1, 5)\n",
    "plt.plot(xs , -(np.log(xs) * 2) / np.pi / 2, c = \"k\", ls=\"--\")"
   ]
  },
  {
   "cell_type": "code",
   "execution_count": null,
   "id": "7cf1b7eb",
   "metadata": {},
   "outputs": [],
   "source": [
    "alpha = 1.\n",
    "for M in 2** np.array([16,14,12 ]):\n",
    "    xs =np.arange(1,M) \n",
    "    Gk = get_Gk_UV(M, alpha)\n",
    "    Gr = np.fft.ifft(Gk).real\n",
    "    plt.loglog(xs, Gr[0] - Gr[1:],  label=r\"$M = %d$\" % M)\n",
    "plt.legend()\n",
    "plt.ylabel(r\"$\\left< \\varphi_0 \\varphi_0 \\right> - \\left< \\varphi_i \\varphi_0 \\right>$\")\n",
    "plt.xlabel(\"$i$\")\n",
    "plt.yscale(\"linear\")\n",
    "xs = np.linspace(1, 10000, 5)\n",
    "plt.plot(xs , (np.log(xs) * 2) / np.pi / 2, c = \"k\", ls=\"--\")"
   ]
  },
  {
   "cell_type": "code",
   "execution_count": null,
   "id": "c1cead40",
   "metadata": {},
   "outputs": [],
   "source": []
  }
 ],
 "metadata": {
  "kernelspec": {
   "display_name": "Python 3",
   "language": "python",
   "name": "python3"
  },
  "language_info": {
   "codemirror_mode": {
    "name": "ipython",
    "version": 3
   },
   "file_extension": ".py",
   "mimetype": "text/x-python",
   "name": "python",
   "nbconvert_exporter": "python",
   "pygments_lexer": "ipython3",
   "version": "3.8.8"
  }
 },
 "nbformat": 4,
 "nbformat_minor": 5
}
