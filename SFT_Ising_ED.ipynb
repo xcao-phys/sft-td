{
 "cells": [
  {
   "cell_type": "code",
   "execution_count": null,
   "id": "dbde0749-2676-490c-ba0f-023310f73422",
   "metadata": {},
   "outputs": [],
   "source": [
    "#BEGIN\n",
    "import numpy as np\n",
    "import matplotlib.pyplot as plt\n",
    "from matplotlib import rc\n",
    "rc('font', **{ \"size\":16}) #**{,,'serif':['Palatino']\n",
    "rc('text', usetex=True)\n",
    "import numpy.random as rnd\n",
    "rnd.seed()\n",
    "import scipy.sparse as sp\n",
    "import scipy.sparse.linalg as sla\n",
    "import scipy.linalg as la\n",
    "from scipy.optimize import brentq as solve\n",
    "from scipy.integrate import odeint as ode\n",
    "from scipy.special import gamma\n",
    "np.set_printoptions(precision = 3, suppress = 1)\n",
    "from matplotlib import cm\n",
    "color = cm.get_cmap(\"Blues\")"
   ]
  },
  {
   "cell_type": "code",
   "execution_count": null,
   "id": "7c2617fc",
   "metadata": {},
   "outputs": [],
   "source": [
    "#Pauli matrices\n",
    "X = np.array([0,1,1,0]).reshape(2,2)\n",
    "Z =  np.array([1,0,0,-1]).reshape(2,2)\n",
    "print(\"X= \\n\", X)\n",
    "print(\"Z= \\n\", Z)"
   ]
  },
  {
   "cell_type": "markdown",
   "id": "5b323fb7",
   "metadata": {},
   "source": [
    "# Introduction\n",
    "\n",
    "This TD studies some basic properties of the 1D and (quasi)-2D classical Ising model without magnetic field by numerical diagonalization of transfer matrices. \n",
    "\n",
    "The partitition function is \n",
    "$$  Z = \\sum_{\\{\\sigma\\}} \\prod_{\\left<  ij \\right>} e^{-K\\sigma_i \\sigma_j} $$\n",
    "where the spins take values $\\pm 1$, and the couplings are between nearest beighbors. \n",
    "\n",
    "On a square lattice, it is useful to generalize to an anisotropic Ising model with horinzontal coupling $K_x$ and vertical coupling $K_y$. \n",
    "\n",
    "## Some theory (duality)\n",
    "\n",
    "By comparing the high-$T$ and low-$T$ expansion of the 2D Ising model on a square lattice, show that\n",
    "\n",
    "- An isotropic Ising model with coupling constant $K$ is dual to another one with $K'$ such that\n",
    "$$  e^{-2K} = \\tanh(K') $$\n",
    "Note that the above relation is equivalent to $e^{-2K'} = \\tanh(K)$. So we can denote it as \n",
    "$$ K \\leftrightarrow K'  $$\n",
    "Recall that the transition takes place at the self dual point.\n",
    "\n",
    "- An anisotropic Ising model with couplings $(K_x, K_y)$ is dual to another one with $(K'_x, K'_y)$ such that \n",
    "$$ K_x \\leftrightarrow K'_y \\,,\\, K_x \\leftrightarrow K'_y $$\n",
    "Argue then that the model is critical if $K_x \\leftrightarrow K_y$. "
   ]
  },
  {
   "cell_type": "markdown",
   "id": "15d9fa9d",
   "metadata": {},
   "source": [
    "# 1D Ising model by transfer matrix\n",
    "Show that the transfer matrix without magnetic field is $T \\propto e^{h X}$, where $e^{-2K} = \\tanh(h)$"
   ]
  },
  {
   "cell_type": "code",
   "execution_count": null,
   "id": "64351f1f",
   "metadata": {},
   "outputs": [],
   "source": [
    "h = .2\n",
    "T = sla.expm(X * h) / np.exp(h) # transfer matrix\n",
    "O = Z # observable (Sz)\n",
    "print(T)"
   ]
  },
  {
   "cell_type": "code",
   "execution_count": null,
   "id": "c68359f2",
   "metadata": {},
   "outputs": [],
   "source": [
    "def correlation(T, O, t, N):\n",
    "    \"\"\" \n",
    "    correlation function O(0) O(t)\n",
    "    T is the transfer matrix\n",
    "    O is the observable\n",
    "    N is the length of the system (periodic bc)\n",
    "    \"\"\"\n",
    "    partition = np.identity(len(T))\n",
    "    correlation = O\n",
    "    for j in range(N):\n",
    "        if j == t: \n",
    "            correlation = correlation @ O\n",
    "        partition = partition @ T\n",
    "        correlation = correlation @ T\n",
    "    return np.trace(correlation) / np.trace(partition) "
   ]
  },
  {
   "cell_type": "code",
   "execution_count": null,
   "id": "dd6789a8",
   "metadata": {},
   "outputs": [],
   "source": [
    "N = 20\n",
    "ts = np.arange(N)\n",
    "corrs = [correlation(T, O, t, N) for t in ts]"
   ]
  },
  {
   "cell_type": "code",
   "execution_count": null,
   "id": "92399f37",
   "metadata": {},
   "outputs": [],
   "source": [
    "plt.plot(ts, corrs, \"o-\")\n",
    "plt.yscale(\"log\")\n",
    "plt.xlabel(\"$n$\")\n",
    "plt.ylabel(r\"$\\left<Sz(0) Sz(n)\\right>$\")\n",
    "#plt.plot(ts, np.exp(-2 * h * ts))"
   ]
  },
  {
   "cell_type": "markdown",
   "id": "9de71171",
   "metadata": {},
   "source": [
    "Do you understand the shape?"
   ]
  },
  {
   "cell_type": "code",
   "execution_count": null,
   "id": "fda74bca",
   "metadata": {},
   "outputs": [],
   "source": [
    "w, v = la.eigh(T)\n",
    "w = w[::-1] #reverse ordering of eigenvalues \n",
    "v = v[:, ::-1]\n",
    "print(\"eigenvalues\", w)\n",
    "#print(\"prediction\", np.exp(-2*h) )\n",
    "print(\"leading eigenvector\", v[:,0])\n",
    "O_eigen = v.T @ O @ v[:,0]\n",
    "    "
   ]
  },
  {
   "cell_type": "code",
   "execution_count": null,
   "id": "86244620",
   "metadata": {},
   "outputs": [],
   "source": [
    "corr_infinity = np.array([(O_eigen[1] ** 2 * w[1] ** t) for t in ts])\n",
    "plt.plot(ts, corr_infinity, \"x-\", label=r\"$N = \\infty$\")\n",
    "plt.plot(ts, corrs, \".-\", label = r\"$N = %d$\" % N)\n",
    "plt.yscale(\"log\")\n",
    "\n",
    "plt.xlabel(\"$n$\")\n",
    "plt.ylabel(r\"$\\left<Sz(0) Sz(n)\\right>$\")\n",
    "plt.legend()"
   ]
  },
  {
   "cell_type": "markdown",
   "id": "fbb7f5c8",
   "metadata": {},
   "source": [
    "# 2D Ising model on a strip of width $L$\n",
    "\n",
    " The partition funtion $Z \\propto (T_X T_Z)^N$ where $T_X$ is the tensor product of $L$ copies of 1D Ising model,  and \n",
    " $$ T_Z = \\prod_{j=1}^{L-1} \\exp(J Z_j Z_{j+1}) $$\n",
    " We consider the transfer matrix $$ T = T_Z^{\\frac12} T_X T_Z^{\\frac12},  T_Z^{\\frac12} = \n",
    " \\prod_{j=1}^{L-1} \\exp(J/2 Z_j Z_{j+1})$$\n",
    " which has the advantage of being Hermitian. "
   ]
  },
  {
   "cell_type": "code",
   "execution_count": null,
   "id": "3ed01fa6",
   "metadata": {},
   "outputs": [],
   "source": [
    "\n",
    "def add_one_site(TX, TZ_diag):\n",
    "    \"\"\" add one site to the transfer matrices TX and TZ^(1/2),\n",
    "    where TZ is represented by its diagonal elements.\"\"\"\n",
    "    TX = sp.kron(TX, sla.expm(X * h) / np.exp(h))\n",
    "    TZ_diag = np.hstack([TZ_diag, TZ_diag])\n",
    "    M = len(TZ_diag)//4\n",
    "    TZ_diag[M:-M] *= np.exp(-J)\n",
    "    return TX, TZ_diag\n",
    "def onesite():\n",
    "    \"\"\"return the TX and TZ_diag of one site  \"\"\"\n",
    "    return sla.expm(X * h) / np.exp(h), np.array([1., 1.])"
   ]
  },
  {
   "cell_type": "markdown",
   "id": "8be6d0f6",
   "metadata": {},
   "source": [
    "### understand the diagonal elements of $T_Z^{1/2}$ "
   ]
  },
  {
   "cell_type": "code",
   "execution_count": null,
   "id": "bd6f54ae",
   "metadata": {},
   "outputs": [],
   "source": [
    "h = 1\n",
    "J = .4\n",
    "TX , TZ_diag = onesite()\n",
    "for L in range(2, 4):\n",
    "    TX, TZ_diag = add_one_site(TX, TZ_diag)\n",
    "print(\"L=%d\" % L) \n",
    "print(\"-\" * L)\n",
    "for j, val in enumerate(TZ_diag):\n",
    "    print(format(j, \"0%db\" % L),\"%g\" % val)\n",
    "print(\"exp(-nJ) = \", np.exp(-np.arange(4) * J))"
   ]
  },
  {
   "cell_type": "markdown",
   "id": "671e7d21",
   "metadata": {},
   "source": [
    "### the trivial paramagnet"
   ]
  },
  {
   "cell_type": "code",
   "execution_count": null,
   "id": "d10b884f",
   "metadata": {},
   "outputs": [],
   "source": [
    "\n",
    "h = 1\n",
    "J = 0\n",
    "TX , TZ_diag = onesite()\n",
    "for L in range(2, 5):\n",
    "    TX, TZ_diag = add_one_site(TX, TZ_diag)\n",
    "print(\"L = \", L)\n",
    "TZ = sp.diags(TZ_diag)\n",
    "T =  TZ * TX * TZ\n",
    "w, v = sla.eigsh(T, which = 'LM', k = 4)\n",
    "if w[0] < w[-1]:\n",
    "    w = w[::-1]\n",
    "    v = v[:, ::-1]\n",
    "print(w)"
   ]
  },
  {
   "cell_type": "code",
   "execution_count": null,
   "id": "d21a0db6",
   "metadata": {},
   "outputs": [],
   "source": [
    "for j, val in enumerate(v[:, 0]):\n",
    "    print(format(j, \"04b\"),\"%.2f\" % val)"
   ]
  },
  {
   "cell_type": "markdown",
   "id": "89677ddc",
   "metadata": {},
   "source": [
    "### the trivial ferromagnet"
   ]
  },
  {
   "cell_type": "code",
   "execution_count": null,
   "id": "2e2004a2",
   "metadata": {},
   "outputs": [],
   "source": [
    "# the trivial ferromagnet\n",
    "h = 0\n",
    "J = 1\n",
    "TX , TZ_diag = onesite()\n",
    "for L in range(2, 5):\n",
    "    TX, TZ_diag = add_one_site(TX, TZ_diag)\n",
    "print(\"L = \", L)\n",
    "TZ = sp.diags(TZ_diag)\n",
    "T =  TZ * TX * TZ\n",
    "w, v = sla.eigsh(T, which = 'LM', k = 4)\n",
    "if w[0] < w[-1]:\n",
    "    w = w[::-1]\n",
    "    v = v[:, ::-1]\n",
    "print(w)"
   ]
  },
  {
   "cell_type": "code",
   "execution_count": null,
   "id": "cb38c2c1",
   "metadata": {},
   "outputs": [],
   "source": [
    "for j, val in enumerate(v[:, 0]):\n",
    "    print(format(j, \"04b\"),\"%.2f\" % val)\n",
    "print(\"....................\")\n",
    "for j, val in enumerate(v[:, 1]):\n",
    "    print(format(j, \"04b\"),\"%.2f\" % val)"
   ]
  },
  {
   "cell_type": "markdown",
   "id": "c158c9b2",
   "metadata": {},
   "source": [
    "### correlation length in the paramagnetic phase, up to the critical point\n",
    "We will compute numerically the correlation length $\\xi$ for various values of $J, h$ and system size. \n",
    "Argue that, in unit of the vertical lattice spacing, \n",
    "$$ \\xi = - \\ln (\\lambda_1 / \\lambda_0)  $$\n"
   ]
  },
  {
   "cell_type": "code",
   "execution_count": null,
   "id": "3f1afdab",
   "metadata": {},
   "outputs": [],
   "source": [
    "res_length = dict()"
   ]
  },
  {
   "cell_type": "code",
   "execution_count": null,
   "id": "0cebfd30",
   "metadata": {},
   "outputs": [],
   "source": [
    "# set a grid of Js\n",
    "h = .1 # try with different h\n",
    "Js = np.linspace(.5, 1., 20)\n",
    "\n",
    "for Joverh in Js:\n",
    "    J = h * Joverh\n",
    "   # print(J)\n",
    "    TX , TZ_diag = onesite()\n",
    "\n",
    "    ws = []\n",
    "    Ls = []\n",
    "    xis = []\n",
    "    for L in range(2,11):\n",
    "        TX, TZ_diag = add_one_site(TX, TZ_diag)\n",
    "        TZ = sp.diags(TZ_diag)\n",
    "        #print(\"L = %d ... \" % L, end = \"\")\n",
    "        T =  TZ * TX * TZ\n",
    "\n",
    "        w, v = sla.eigsh(T, k=2, which = \"LM\")\n",
    "        length = -1 / np.log(w[0] / w[1])\n",
    "        res_length[(h,J,L)] = length\n",
    "    #print(\"\")"
   ]
  },
  {
   "cell_type": "code",
   "execution_count": null,
   "id": "949d6f83",
   "metadata": {
    "scrolled": true
   },
   "outputs": [],
   "source": [
    "\n",
    "for Jappro in [.5, .7, .9, .95, 1.]:\n",
    "    J = Js[np.searchsorted(Js, Jappro)]\n",
    "    #if L < 7: continue\n",
    "    Ls=np.arange(3, 11)\n",
    "    xis = np.array([ res_length[(h, J* h, L)] for L in Ls ])\n",
    "    \n",
    "    plt.plot(Ls, xis, \"o-\", c=color(J / 1), label=\"J/h = %.2g\" % J)\n",
    "plt.legend(bbox_to_anchor=(1,1))\n",
    "plt.xlabel(\"$L$\")\n",
    "plt.ylabel(r\"$\\xi$\" )"
   ]
  },
  {
   "cell_type": "code",
   "execution_count": null,
   "id": "e7c87a52",
   "metadata": {},
   "outputs": [],
   "source": [
    "Ls = np.arange(6,11)\n",
    "for L in Ls:\n",
    "    #if L < 7: continue\n",
    "    xis = np.array([ res_length[(h, J* h, L)] for J in Js if J])\n",
    "    \n",
    "    plt.plot(Js, xis, \"o-\", c=color(L / Ls[-1]), label=\"L = %d\" % L)\n",
    "plt.legend()\n",
    "plt.xlabel(\"$J/h$\")\n",
    "plt.ylabel(r\"$\\xi$\" )"
   ]
  },
  {
   "cell_type": "code",
   "execution_count": null,
   "id": "6e2bd1c6",
   "metadata": {
    "scrolled": true
   },
   "outputs": [],
   "source": [
    "\n",
    "Ls = np.arange(6,11)\n",
    "for L in Ls:\n",
    "    #if L < 7: continue\n",
    "    xis = np.array([ res_length[(h, J* h, L)] for J in Js if J])\n",
    "    \n",
    "    plt.plot(Js, xis / L, \"o-\", c=color(L / Ls[-1]), label=\"L = %d\" % L)\n",
    "plt.legend()\n",
    "plt.xlabel(\"$J/h$\")\n",
    "plt.ylabel(r\"$\\xi / L$\" )"
   ]
  },
  {
   "cell_type": "markdown",
   "id": "fe98a273",
   "metadata": {},
   "source": [
    "The critical scaling: the distance to the critical point $t$ is amplified by the system size (here $L$), usually in a power law fashion $t \\to t L^{\\nu}$, where $\\nu$ is the correlation length exponent. \n",
    "For the 2D Ising critical point, we know $\\nu = 1$ by its exact solution (we will show this in a later TD).\n",
    "Here we shall see how this works in our baby numerics."
   ]
  },
  {
   "cell_type": "code",
   "execution_count": null,
   "id": "b270fba5",
   "metadata": {},
   "outputs": [],
   "source": [
    "h = .1\n",
    "Ls = np.arange(6,11)\n",
    "for L in Ls:\n",
    "    #if L < 7: continue\n",
    "    xis = np.array([ res_length[(h, J* h, L)] for J in Js if J])\n",
    "    \n",
    "    plt.plot((1-Js) * L, xis / L, \"o-\", c=color(L / Ls[-1]), label=\"L = %d\" % L)\n",
    "plt.legend()\n",
    "plt.xlabel(r\"$|J-Jc| L^{1/\\nu}$\")\n",
    "plt.ylabel(r\"$\\xi / L$\" )"
   ]
  },
  {
   "cell_type": "markdown",
   "id": "30c1cb42",
   "metadata": {},
   "source": [
    "In the above plot, can we understand/justify the choice of the y axis? "
   ]
  },
  {
   "cell_type": "markdown",
   "id": "fdc94a4c",
   "metadata": {},
   "source": [
    "## Transverse field Ising model\n",
    "One observation from the critical scaling is that it works much better when $h$ and $J$ are small. \n",
    "In the limit $h, J \\to h \\delta t, J \\delta t$, the transfer matrix becomes $cI - H \\delta t + O((\\delta t)^2)$, where\n",
    "$$ H =  - \\sum_{j=1}^L h X_j -   \\sum_{j=1}^{L-1}J Z_j Z_{j+1}$$\n",
    "is the famous transverse field Ising model (TFIM). "
   ]
  },
  {
   "cell_type": "code",
   "execution_count": null,
   "id": "7a620f8a",
   "metadata": {},
   "outputs": [],
   "source": [
    "def get_Ising_terms():\n",
    "    Xs = sum([sp.kron(np.identity(2 ** (L-j-1)), sp.kron(X, np.identity(2 ** j)) ) for j in range(L)])\n",
    "    ZZ = sp.kron(Z, Z)\n",
    "    ZZs = sum([sp.kron(np.identity(2 ** (L-j-2)), sp.kron(ZZ, np.identity(2 ** j)) ) for j in range(L-1)])\n",
    "    return Xs, ZZs"
   ]
  },
  {
   "cell_type": "code",
   "execution_count": null,
   "id": "c9505f6e",
   "metadata": {},
   "outputs": [],
   "source": [
    "res_len_Q = dict()"
   ]
  },
  {
   "cell_type": "code",
   "execution_count": null,
   "id": "80b6ba15",
   "metadata": {},
   "outputs": [],
   "source": [
    "#redo the critical scaling with TFIM\n",
    "Js = np.linspace(.5, 1., 20)\n",
    "for L in range(7, 14):\n",
    "    print(\".\",end=\"\")\n",
    "    Xs, ZZs = get_Ising_terms()\n",
    "    for J in Js:\n",
    "        H = -Xs - ZZs * J\n",
    "        w,v= sla.eigsh(H, which = \"SA\", k = 2)\n",
    "        length = 1/abs(w[1] - w[0])\n",
    "        res_len_Q[(J,L)] = length\n"
   ]
  },
  {
   "cell_type": "code",
   "execution_count": null,
   "id": "10226e9b",
   "metadata": {},
   "outputs": [],
   "source": [
    "Ls = np.arange(8,14)\n",
    "for L in Ls:\n",
    "    #if L < 7: continue\n",
    "    xis = np.array([ res_len_Q[(J, L)] for J in Js])\n",
    "    \n",
    "    plt.plot((1-Js) * L, xis / L, \"o-\", c=color(L / Ls[-1]), label=\"L = %d\" % L)\n",
    "plt.legend()\n",
    "plt.xlabel(r\"$|J-J_c| L^{1/\\nu}$\")\n",
    "plt.ylabel(r\"$\\xi / L$\" )"
   ]
  },
  {
   "cell_type": "markdown",
   "id": "ade465d3",
   "metadata": {},
   "source": [
    "## the ferromagnetic phase\n"
   ]
  },
  {
   "cell_type": "code",
   "execution_count": null,
   "id": "4b3c3397",
   "metadata": {},
   "outputs": [],
   "source": [
    "J = 2\n",
    "gap = []\n",
    "gap1 = []\n",
    "Ls = np.arange(3,13)\n",
    "for L in Ls:\n",
    "    print(\".\",end=\"\")\n",
    "    Xs, ZZs = get_Ising_terms()\n",
    "    H = -Xs - ZZs * J\n",
    "    w,v= sla.eigsh(H, which = \"SA\", k = 3)\n",
    "    gap.append((w[1] - w[0]))\n",
    "    gap1.append((w[2] - w[1]))"
   ]
  },
  {
   "cell_type": "code",
   "execution_count": null,
   "id": "a6a2c4a7",
   "metadata": {},
   "outputs": [],
   "source": [
    "plt.plot(Ls, gap, \"o-\",label=\"$E_1-E_0$\")\n",
    "plt.plot(Ls, gap1,\"s--\", label=\"$E_2-E_1$\")\n",
    "#plt.plot(Ls, gap1)\n",
    "plt.yscale(\"log\")\n",
    "plt.xlabel(\"$L$\")\n",
    "plt.ylabel(\"$\\delta E$\")\n",
    "plt.legend()"
   ]
  },
  {
   "cell_type": "markdown",
   "id": "9da37e6c",
   "metadata": {},
   "source": [
    "The two lowest states are degenerate in the thermodynamic limit. For finite systems, their gap is exponential small. \n",
    "- Can we understand the exponential-in-$L$ gap from perturbing the $J \\gg h$ limit? \n",
    "- Physically what does this degeneracy relate to?"
   ]
  },
  {
   "cell_type": "markdown",
   "id": "b54e64b8",
   "metadata": {},
   "source": [
    "### computing the ``spontaneous magnetization''\n",
    "\n",
    "The following code looks at the matrix elements of a spin operator in the degenerate ground state manifold.\n",
    "Do we understand the output? \n"
   ]
  },
  {
   "cell_type": "code",
   "execution_count": null,
   "id": "03270468",
   "metadata": {},
   "outputs": [],
   "source": [
    "J = 1.5\n",
    "L = 6\n",
    "Xs, ZZs = get_Ising_terms()\n",
    "# Sz measures the magnetization of the middle spin\n",
    "Sz = sp.kron(np.identity(2 ** (L-L//2-1)), sp.kron(Z, np.identity(2 ** (L // 2))) )\n",
    "H = -Xs - ZZs * J\n",
    "w,v= sla.eigsh(H, which = \"SA\", k = 2)\n",
    "Sz_deg = v.T @ Sz @ v\n",
    "print(Sz_deg)"
   ]
  },
  {
   "cell_type": "markdown",
   "id": "cd988ca4",
   "metadata": {},
   "source": [
    "We now exploit this to calculate the \"spontaneous magnetization\" of finite systems (which does not exist *stricto sensu*)"
   ]
  },
  {
   "cell_type": "code",
   "execution_count": null,
   "id": "eff531e7",
   "metadata": {},
   "outputs": [],
   "source": [
    "res_magnet = dict()"
   ]
  },
  {
   "cell_type": "code",
   "execution_count": null,
   "id": "9498931c",
   "metadata": {},
   "outputs": [],
   "source": [
    "Js = np.linspace(1., 1.2, 15)\n",
    "Ls = np.arange(3,14,2)\n",
    "\n",
    "for L in Ls:\n",
    "    \n",
    "    Xs, ZZs = get_Ising_terms()\n",
    "    Sz = sp.kron(np.identity(2 ** (L-L//2-1)), sp.kron(Z, np.identity(2 ** (L // 2))) )\n",
    "    for J in Js:\n",
    "        H = -Xs - ZZs * J\n",
    "        w,v= sla.eigsh(H, which = \"SA\", k = 2)\n",
    "        Sz_deg = v.T @ Sz @ v\n",
    "        M = la.eigvalsh(Sz_deg)[-1]\n",
    "        res_magnet[J, L] = M\n",
    "        print(\".\",end=\"\")"
   ]
  },
  {
   "cell_type": "code",
   "execution_count": null,
   "id": "443881be",
   "metadata": {},
   "outputs": [],
   "source": [
    "for L in Ls:\n",
    "    if L < 7 or L % 2 == 0: continue\n",
    "    Ms = np.array([ res_magnet[J, L] for J in Js])\n",
    "    \n",
    "    plt.plot(Js, Ms, \"o-\", c=color(L / Ls[-1]), label=\"L = %d\" % L)\n",
    "plt.legend()\n",
    "plt.xlabel(\"$J/h$\")\n",
    "plt.ylabel(\"$M$\")"
   ]
  },
  {
   "cell_type": "markdown",
   "id": "2b3a316e",
   "metadata": {},
   "source": [
    "To do the critical scaling of this observable, we need to know another exponent, \n",
    "the scaling dimension of the spin operator $\\Delta_{\\sigma} = 1/8$. \n",
    "It implies that $L^{\\Delta_\\sigma} m$ should be viewed as dimensionless in a critical scaling. Here is how it works."
   ]
  },
  {
   "cell_type": "code",
   "execution_count": null,
   "id": "afd20eec",
   "metadata": {},
   "outputs": [],
   "source": [
    "for L in Ls:\n",
    "    if L < 7 or L % 2 == 0: continue\n",
    "    Ms = np.array([ res_magnet[J, L] for J in Js])\n",
    "    plt.plot((Js - 1) * L, Ms * L ** 0.125 , \"o-\", c=color(L / Ls[-1]), label=\"L = %d\" % L)\n",
    "plt.legend()\n",
    "plt.xlabel(r\"$|J-J_c|L^{1/\\nu}$\")\n",
    "plt.ylabel(r\"$M L^{\\Delta_{\\sigma}}$\")"
   ]
  },
  {
   "cell_type": "markdown",
   "id": "b34848b7",
   "metadata": {},
   "source": [
    "Are you convinced? Indeed, extracting critical properties from exact diagonalization (ED) study is not obvious. The system size is severely limited, which can make *correction to scaling* important. "
   ]
  },
  {
   "cell_type": "code",
   "execution_count": null,
   "id": "a4ed9e07",
   "metadata": {},
   "outputs": [],
   "source": []
  }
 ],
 "metadata": {
  "kernelspec": {
   "display_name": "Python 3",
   "language": "python",
   "name": "python3"
  },
  "language_info": {
   "codemirror_mode": {
    "name": "ipython",
    "version": 3
   },
   "file_extension": ".py",
   "mimetype": "text/x-python",
   "name": "python",
   "nbconvert_exporter": "python",
   "pygments_lexer": "ipython3",
   "version": "3.8.8"
  }
 },
 "nbformat": 4,
 "nbformat_minor": 5
}
