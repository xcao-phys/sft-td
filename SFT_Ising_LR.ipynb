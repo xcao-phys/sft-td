{
 "cells": [
  {
   "cell_type": "code",
   "execution_count": 250,
   "metadata": {},
   "outputs": [],
   "source": [
    "## BEGIN\n",
    "import numpy as np\n",
    "import matplotlib.pyplot as plt\n",
    "from matplotlib import rc\n",
    "rc('font', **{ \"size\":16}) #**{,,'serif':['Palatino']\n",
    "rc('text', usetex=True)\n",
    "import numpy.random as rnd\n",
    "rnd.seed()\n",
    "import scipy.sparse as sp\n",
    "import scipy.sparse.linalg as sla\n",
    "import scipy.linalg as la\n",
    "import pickle as cp\n",
    "import scipy.optimize as opt\n",
    "from scipy.optimize import curve_fit as fit\n",
    "#import mps\n",
    "import cProfile\n",
    "import subprocess\n",
    "from scipy.special import hyp2f1, erf\n",
    "from scipy.optimize import brentq\n",
    "from matplotlib import cm\n",
    "cmap = cm.get_cmap(\"tab20\")\n",
    "import itertools"
   ]
  },
  {
   "cell_type": "markdown",
   "metadata": {},
   "source": [
    "# A test of $\\epsilon$-expansion in 1D \n",
    "\n",
    "An obvious criticism of the $\\epsilon$ expansion is that a field theoy in $(4 - \\epsilon)$ does not exist. Besides, doing numerics in 3D is quite hard. Here, we shall study an Ising model in a 1D lattice, but with long range interations which are designed to mimic any dimension $D$ (even non-integer ones!), while being easily accessible numerically. The goal is to test predictions of the perturbative RG with $\\epsilon$ truly small. \n",
    "\n",
    "The microscopic Hamiltonian has the form\n",
    "$$ \n",
    " H = \\sum_{i < j} J_{|i - j|} \\sigma_i \\sigma_j\n",
    "$$\n",
    "\n",
    "A first natural idea is to take a power-law interaction:\n",
    "$$ \n",
    " J_{r} \\propto r^{-1-\\alpha} \n",
    "$$\n",
    "\n",
    "- Argue, à la Laudau-Ginzburg, that this model is described by a field theory in 1D with long range \"elastic\" energy\n",
    "$$ \\int_x \\left[ g_2 \\phi^2 + g_4 \\phi^4 +  \\dots \\right] + \\frac12 \\int_q |\\hat{\\phi}(q)|^2 |q|^{\\alpha} $$\n",
    "- Argue that mean field theory is valid for \n",
    "$$ \\alpha < 1/2 $$\n",
    "So we will be doing an expansion \n",
    "$$\\epsilon = \\alpha - 1/2 $$\n",
    "- What is the bare scaling dimension of $\\phi$?\n",
    "- Write down the one-loop RG flow equations for $g_2$ and $g_4$. Copy as much as we can.\n",
    "- Compute the correlation length exponent $\\nu = 1/y_T$ to order $\\epsilon$. \n",
    "\n",
    "###  \"Dyadic\" long range model \n",
    "\n",
    "We are going to compare the above prediction to numerics. Universality invites us to take a further step in reducing the numerical cost. Instead of having spins interact at all distances, we let them interact only if the distance is a power of $2$:\n",
    "\n",
    "$$ J_{r} \\propto \\begin{cases} r^{-\\alpha} &  r = 2^k   \\\\ 0 & \\text{otherwise}\n",
    " \\end{cases}  $$\n",
    "  \n",
    "- Why do we still expect the model to be described by the above field theory?\n",
    " \n",
    "In the numerics below we use the Swendsen-Wang algorithm, which works with the variable $w_r = 1-e^{-2J_r} \\sim 2 J_r + O(J_r^2)$ for small coupling. So we can we take\n",
    "\n",
    "$$ w_{2^k} = K \\, 2^{-k\\alpha} \\,,\\, k = 0, 1, 2, \\dots   $$\n",
    "\n",
    "$K$ would be the tuning parameter. \n",
    "\n",
    "\n",
    "\n",
    "### A numerical tool: Binder ratio\n",
    "\n",
    "To save effort, we want to study exclusively $\\nu$ (and not the spin scaling dimension $\\Delta_\\sigma$). This is not obvious since observables involving spin usually involves $\\Delta_\\sigma$ as well. A clever numerical trick is found by Binder to overcome this. Consider \n",
    "\n",
    "$$ B = 1 - \\frac{\\left< m^4 \\right>}{3 \\left< m^2 \\right>} $$\n",
    "\n",
    "where $m =( \\sum_i \\sigma_i  ) / L$ is the average magnetization of the system, and the average is over the Gibbs ensemble. \n",
    "\n",
    "- Argue that in the thermodynamic limit $B\\to 2/3$ in the symmetry broken phase\n",
    "- Argue that $B \\to 0$ in the high temperature phase (hint: what is $m$ is Gaussian).\n",
    "- Argue that near criticality, \n",
    "\n",
    "$$ B = B( |T-T_c| L^{y_T}) , $$\n",
    "\n",
    "that is, its critical scaling does not involve $\\Delta_{\\psi}$\n",
    "\n",
    "### Note\n",
    "\n",
    "The critical value is unknown and non-universal. The code below \"works\" for $\\alpha = .75$ because I tested it and found the critical point a range of system sizes that work decently. For other values you need to adjust all that."
   ]
  },
  {
   "cell_type": "code",
   "execution_count": 270,
   "metadata": {},
   "outputs": [],
   "source": [
    "res_binder = dict()"
   ]
  },
  {
   "cell_type": "code",
   "execution_count": 275,
   "metadata": {},
   "outputs": [
    {
     "name": "stdout",
     "output_type": "stream",
     "text": [
      "L = 64K = 0.4, 0.422222, 0.444444, 0.466667, 0.488889, 0.511111, 0.533333, 0.555556, 0.577778, 0.6, L = 256K = 0.4, 0.422222, 0.444444, 0.466667, 0.488889, 0.511111, 0.533333, 0.555556, 0.577778, 0.6, L = 1024K = 0.4, 0.422222, 0.444444, 0.466667, 0.488889, 0.511111, 0.533333, 0.555556, 0.577778, 0.6, "
     ]
    }
   ],
   "source": [
    "Ks = np.linspace(.4, .6, 10)\n",
    "alpha = .75\n",
    "for lb in [6,8,10]:\n",
    "   \n",
    "    L = 2 ** lb\n",
    "    print(\"L = %d\" % L, end = \"K = \")\n",
    "\n",
    "    data = np.ones(L* lb, dtype=int)\n",
    "    Is = np.arange(L * lb, dtype=int) // lb\n",
    "    Js = (Is + 2 ** (np.arange(L * lb, dtype=int) % lb)) % L\n",
    "    edges = sp.coo_matrix((data, (Is, Js)), shape=(L,L))\n",
    "    spin = np.zeros(L, dtype=int)\n",
    "\n",
    "    for K in Ks:\n",
    "        print(\"%g\" % K, end = \", \")\n",
    "        ws = 2 ** (np.arange(lb) * -alpha) * K\n",
    "        if not (alpha, K, lb) in res_binder:\n",
    "            res_binder[alpha, K, lb] = (np.array([0.,0., 0.]), spin)\n",
    "        else:\n",
    "            spin = res_binder[alpha, K, lb][1]\n",
    "        for j in range(200):\n",
    "\n",
    "            same = np.where(spin[edges.row] == spin[edges.col])[0]  \n",
    "\n",
    "            edges.data[:] = 0\n",
    "            edges.data[same] = (rnd.rand(len(same)) < ws[same % lb]) # same color: throw a dice\n",
    "\n",
    "            FK_graph = edges.tocsc()\n",
    "            FK_graph.eliminate_zeros()\n",
    "            n_cl, FK_clusters = sp.csgraph.connected_components(FK_graph, directed=0, return_labels=1)\n",
    "\n",
    "            FK_spin = rnd.randint(2, size = n_cl) * 2 - 1\n",
    "            spin[:] = FK_spin[FK_clusters]\n",
    "\n",
    "            O = np.mean(spin)\n",
    "            res_binder[alpha, K,lb][0][:] += [1, O**2, O**4]"
   ]
  },
  {
   "cell_type": "code",
   "execution_count": 274,
   "metadata": {},
   "outputs": [
    {
     "name": "stdout",
     "output_type": "stream",
     "text": [
      "prediction: 1/\\nu = 0.33333333333333337\n"
     ]
    },
    {
     "data": {
      "text/plain": [
       "<matplotlib.legend.Legend at 0x7fedf5938f10>"
      ]
     },
     "execution_count": 274,
     "metadata": {},
     "output_type": "execute_result"
    },
    {
     "data": {
      "image/png": "[encoded data removed]",
      "text/plain": [
       "<Figure size 432x288 with 1 Axes>"
      ]
     },
     "metadata": {
      "needs_background": "light"
     },
     "output_type": "display_data"
    }
   ],
   "source": [
    "alpha = .75\n",
    "for lb in [6,8,10]:\n",
    "    res = []\n",
    "    for K in Ks:\n",
    "        data = res_binder[alpha, K, lb][0]\n",
    "        binder = 1 - (data[2] / data[0]) / (data[1] / data[0]) ** 2 / 3\n",
    "        res.append(binder )\n",
    "        \n",
    "    L = 2 ** lb\n",
    "    yT = .5 - (alpha - 1/2) * 2/3\n",
    "    plt.plot((Ks - .50) * L ** (yT) , res , \"o--\", label=r\"$L = 2^{%d}$\" % lb)\n",
    "plt.ylim(0,.7)\n",
    "print(r\"prediction: 1/\\nu =\", yT)\n",
    "plt.xlabel(r\"$(K-K_c)  L^{1/\\nu}$\")\n",
    "plt.ylabel(r\"$B$\")\n",
    "plt.legend()"
   ]
  },
  {
   "cell_type": "markdown",
   "metadata": {},
   "source": [
    "### Check that the dyadic hopping produces a correct low momenta behavior"
   ]
  },
  {
   "cell_type": "code",
   "execution_count": 257,
   "metadata": {},
   "outputs": [
    {
     "data": {
      "text/plain": [
       "Text(0, 0.5, '$|q|^{\\\\alpha}$')"
      ]
     },
     "execution_count": 257,
     "metadata": {},
     "output_type": "execute_result"
    },
    {
     "data": {
      "image/png": "[encoded data removed]",
      "text/plain": [
       "<Figure size 432x288 with 1 Axes>"
      ]
     },
     "metadata": {
      "needs_background": "light"
     },
     "output_type": "display_data"
    }
   ],
   "source": [
    "qs = np.linspace(0, np.pi, 500)\n",
    "alpha = .6\n",
    "ans = np.zeros(len(qs), dtype=float)\n",
    "for k in range(10):\n",
    "    ans += np.cos( 2 ** k * qs) * (2**(-k*alpha))\n",
    "plt.loglog(qs[1:], ans[0] - ans[1:])\n",
    "plt.loglog(qs[1:], qs[1:] ** alpha)\n",
    "plt.xlabel(r\"$q$\")\n",
    "plt.ylabel(r\"$|q|^{\\alpha}$\")"
   ]
  },
  {
   "cell_type": "code",
   "execution_count": null,
   "metadata": {},
   "outputs": [],
   "source": []
  }
 ],
 "metadata": {
  "kernelspec": {
   "display_name": "Python 3",
   "language": "python",
   "name": "python3"
  },
  "language_info": {
   "codemirror_mode": {
    "name": "ipython",
    "version": 3
   },
   "file_extension": ".py",
   "mimetype": "text/x-python",
   "name": "python",
   "nbconvert_exporter": "python",
   "pygments_lexer": "ipython3",
   "version": "3.8.8"
  }
 },
 "nbformat": 4,
 "nbformat_minor": 2
}
