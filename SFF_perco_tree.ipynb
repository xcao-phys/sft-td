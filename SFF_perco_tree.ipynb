{
 "cells": [
  {
   "cell_type": "code",
   "execution_count": null,
   "id": "08d634b3",
   "metadata": {},
   "outputs": [],
   "source": [
    "#BEGIN\n",
    "import numpy as np\n",
    "import matplotlib.pyplot as plt\n",
    "from matplotlib import rc\n",
    "rc('font', **{ \"size\":16}) #**{,,'serif':['Palatino']\n",
    "rc('text', usetex=True)\n",
    "import numpy.random as rnd\n",
    "rnd.seed()\n",
    "import scipy.sparse as sp\n",
    "import scipy.sparse.linalg as sla\n",
    "import scipy.linalg as la\n",
    "from scipy.optimize import brentq as solve\n",
    "from scipy.integrate import odeint as ode\n",
    "from scipy.special import gamma\n",
    "np.set_printoptions(precision = 3, suppress = 1)\n",
    "from matplotlib import cm\n",
    "color = cm.get_cmap(\"Blues\")"
   ]
  },
  {
   "cell_type": "markdown",
   "id": "950134c5",
   "metadata": {},
   "source": [
    "# Percolation transition on a tree \n",
    "\n",
    "The goal of this exercise is to practice the RG language on a toy model of percolation. \n",
    "\n",
    "## The model\n",
    "We consider a tree with branching number \n",
    "#### $$b = 3$$\n",
    "so that there are $b^k$ vertices at generation $k$, for $k=0, 1, 2, \\dots, n$ ($k=0$ is the root, $n$ is the leaf level).\n",
    "\n",
    "The percolation happens in a \"bottom-up\" fashion:\n",
    "- each leaf (at level $n$) is activated with probability $p$, independently of one another. $p$ is thus the bare coupling constant.\n",
    "- A vertex in the previous level ($n-1$) is activated if at least two of its descendents are (majority rule). When that happens, we connect that vertex with its activated descendents. This is how we construct clusters (see demo below).\n",
    "\n",
    "To make connection with block-spin RSRG, the leaves are identified microscopic sites on a 1D lattice (the model can be viewed as percolation in 1d with \"long range interaction\"). so the system size is \n",
    "#### $$ L = b^n \\,. $$\n",
    "A vertex at level $n-\\ell$ is a block-spin at scale \n",
    "#### $$ r_\\ell = b^{\\ell} \\,,\\, \\ell = 0, \\dots, n $$"
   ]
  },
  {
   "cell_type": "markdown",
   "id": "e9f502f9",
   "metadata": {},
   "source": [
    "## Nice pictures first\n",
    "\n",
    "Play a bit with the direct simulation below, by tuning $p$. \n",
    "Can you see a percolation transition? At which value?"
   ]
  },
  {
   "cell_type": "code",
   "execution_count": null,
   "id": "dd38fc57",
   "metadata": {},
   "outputs": [],
   "source": [
    "\n",
    "p = .4\n",
    "n = 4\n",
    "plt.figure(1, figsize = (12, 3))\n",
    "for l in range(n+1):\n",
    "    N = 3 ** (n-l)\n",
    "    xs = np.arange(N) * 3 ** l - N // 2 * 3 ** l\n",
    "    if not l:\n",
    "        active = rnd.rand(N) < p\n",
    "    else:\n",
    "        active = np.sum( active.reshape(-1, 3), axis = 1) > 1\n",
    "       \n",
    "    \n",
    "    if l < n:\n",
    "        for k,x in enumerate(xs):\n",
    "            j = k % 3 - 1\n",
    "            plt.plot([x, x - j * 3 ** (l)], [l, l+1], c = color((active[k]*3 + 1) / 4))\n",
    "    plt.scatter(xs, np.ones(N) * l, c = (active* 3+ 1) /4 , cmap = \"Blues\", vmin = 0, vmax=1)\n",
    "plt.xlabel(r\"$x$ (lattice unit)\" )\n",
    "plt.ylabel(r\"$\\ell$\")"
   ]
  },
  {
   "cell_type": "markdown",
   "id": "ff90767f",
   "metadata": {},
   "source": [
    "## RSRG: flow of $p$\n",
    "\n",
    "- Show that the RSRG equation for the coupling constant $p$ at scale $r = b^\\ell$ is \n",
    "#### $$ p_{r b} = f(p_{r}) \\,,\\ f(p) = 3p^2 - 2p^3 \\,,\\,   $$\n",
    "(Below is a plot of $f$)\n",
    "\n",
    "- Describe the phase diagram (What is $p_c$?)\n",
    "- Show that the correlation length exponent is such that\n",
    "#### $$ b^{1/\\nu} = f'(p_c)  $$"
   ]
  },
  {
   "cell_type": "code",
   "execution_count": null,
   "id": "9d7b16c6",
   "metadata": {},
   "outputs": [],
   "source": [
    "ps = np.linspace(0,1,100)\n",
    "plt.figure(1, figsize = (4,4))\n",
    "f = lambda p: 3 * p ** 2 - 2 * p ** 3\n",
    "fps = f(ps)\n",
    "plt.plot(ps, fps, c =\"b\")\n",
    "plt.xlabel(\"$p$\")\n",
    "plt.ylabel(\"$f(p)$\")\n",
    "plt.plot(ps, ps, c = \"k\")"
   ]
  },
  {
   "cell_type": "markdown",
   "id": "76be4ca3",
   "metadata": {},
   "source": [
    "## Spin operator\n",
    "\n",
    "Take two distinct leaves (microscopic sites), and consider the path from each of them to the root. The two paths will have $q$ steps in overlap. \n",
    "- What is their distance $r$ in lattice unit? Do you agree with the following (why/why not)?\n",
    "#### $$ r \\propto 3^{n-q}$$\n",
    "\n",
    "The two point function $G(r)$ is by definition the probability that the two sites with distance $r$ (with the definition above) are in the same cluster. \n",
    "\n",
    "- Show that\n",
    "#### $$ G(r) = m(r)^2 $$\n",
    "where $m(r)$ is the probability that a vertex is connected to its $\\ell$-th ancestor, where $r = 3^{\\ell}$.\n",
    "\n",
    "- Note that $m(r = L)$ is the probability that a is is connected to the root, or, in percolation jargon, belongs to the infinite cluster; this is the order parameter in percolation, analogue to the spontaneous magnetization in the Ising model.\n",
    "\n",
    "### At criticality\n",
    "We first tune to the critical point $p = p_c$ exactly.\n",
    "- write a recursion relation for $m(r)$:\n",
    "#### $$m(r) = m(r / b) b^{-\\Delta_\\sigma}  \\,,\\, b = 3 $$\n",
    "where \n",
    "#### $$ b^{-\\Delta_\\sigma} = (2 p_c - p_c^2)  $$\n",
    "\n",
    "- Deduce that the order parameter decays with the system size as \n",
    "#### $$ m(L) \\propto L^{-\\Delta_{\\sigma}} $$\n",
    "while the two point function at critical point has a power law decay\n",
    "#### $$ G(r) \\propto r^{-2\\Delta_\\sigma} $$\n",
    "\n",
    "### Near criticality\n",
    "\n",
    "\n",
    "First, set $p = p_c + t$, $0< t \\ll 1$, that is, near criticality, in the percolating side.\n",
    "\n",
    "- Argue that the order parameter satisfies:\n",
    "#### $$ m(L) \\sim \\begin{cases} \n",
    "L^{-\\Delta_\\sigma}  &  L \\ll t^{-\\nu} \\\\\n",
    "t^{\\beta} & L \\gg t^{-\\nu} \n",
    "\\end{cases} $$\n",
    "where the exponent $\\beta$ satisfies the hyperscaling relation\n",
    "#### $$\\beta = \\nu \\Delta_{\\sigma}$$\n",
    "Comment on the behavior of the two point function.\n",
    "\n",
    "Next, set $p = p_c - t$, $0< t \\ll 1$, in the insulating side.\n",
    "\n",
    "- Repeat the above exercise. In particular show that the two point function decays exponentially beyond the correlation length."
   ]
  }
 ],
 "metadata": {
  "kernelspec": {
   "display_name": "Python 3",
   "language": "python",
   "name": "python3"
  },
  "language_info": {
   "codemirror_mode": {
    "name": "ipython",
    "version": 3
   },
   "file_extension": ".py",
   "mimetype": "text/x-python",
   "name": "python",
   "nbconvert_exporter": "python",
   "pygments_lexer": "ipython3",
   "version": "3.8.8"
  }
 },
 "nbformat": 4,
 "nbformat_minor": 5
}
