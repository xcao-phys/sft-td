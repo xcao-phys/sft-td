{
 "cells": [
  {
   "cell_type": "code",
   "execution_count": null,
   "id": "be7dbf38",
   "metadata": {},
   "outputs": [],
   "source": [
    "\n",
    "#BEGIN\n",
    "import numpy as np\n",
    "import matplotlib.pyplot as plt\n",
    "from matplotlib import rc\n",
    "rc('font', **{ \"size\":16}) #**{,,'serif':['Palatino']\n",
    "rc('text', usetex=True)\n",
    "import numpy.random as rnd\n",
    "rnd.seed()\n",
    "import scipy.sparse as sp\n",
    "import scipy.sparse.linalg as sla\n",
    "import scipy.linalg as la\n",
    "from scipy.optimize import brentq as solve\n",
    "from scipy.integrate import odeint as ode\n",
    "from scipy.special import gamma\n",
    "np.set_printoptions(precision = 3, suppress = 1)\n",
    "from matplotlib import cm\n",
    "color = cm.get_cmap(\"Blues\")\n",
    "\n",
    "def get_Ising_terms():\n",
    "    Xs = sum([sp.kron(np.identity(2 ** (L-j-1)), sp.kron(X, np.identity(2 ** j)) ) for j in range(L)])\n",
    "    ZZ = sp.kron(Z, Z)\n",
    "    ZZs = sum([sp.kron(np.identity(2 ** (L-j-2)), sp.kron(ZZ, np.identity(2 ** j)) ) for j in range(L-1)])\n",
    "    return Xs, ZZs"
   ]
  },
  {
   "cell_type": "markdown",
   "id": "0e62d572",
   "metadata": {},
   "source": [
    "# Fermion mapping of TFIM\n",
    "\n",
    "The 2D Ising model is in the same universality class of the transverse field Ising model\n",
    "#### $$ H =  - \\sum_{j=1}^L h X_j -   \\sum_{j=1}^{L-1}J Z_j Z_{j+1}$$\n",
    "\n",
    "This quantum spin chain also offers (arguably) the simplest route to the exact solution, via a free fermion mapping. \n",
    "\n",
    "Unless otherwise specified, we will consider the model with open boundary condition, on a strip of length $L$. "
   ]
  },
  {
   "cell_type": "markdown",
   "id": "2f226b06",
   "metadata": {},
   "source": [
    "## The Jordan Wigner transform\n",
    "\n",
    "- Show that the operators \n",
    "#### $$\\gamma_j = Z_j \\prod_{k < j} X_k \\,,\\, \\eta_j = Y_j \\prod_{k < j} X_k $$\n",
    "satisfy the anticommutation relations of Majorana fermions \n",
    "#### $$ \\{ \\gamma_j, \\gamma_k \\} = \\{ \\eta_j, \\eta_k \\}  =2 I \\delta_{jk} $$\n",
    "$\\gamma$'s and $\\eta$'s anti-commute.\n",
    "\n",
    "- (For those who never saw Majorana's) Verify that \n",
    "#### $$c_j = \\frac12 (\\gamma_j + \\mathrm{i}\\eta_j) , c^\\dagger = \\frac12 (\\gamma_j - \\mathrm{i}\\eta_j) $$\n",
    "satisfy the anticommutation relations of complex fermion creation and annihilation operators. \n",
    "- Show that \n",
    "\n",
    "#### $$ \\mathrm{i} \\gamma_j \\eta_j  = X_j  \\,,\\,  \\mathrm{i} \\eta_j \\gamma_{j+1} = Z_j Z_{j+1} $$\n",
    "\n",
    "If we place $\\eta_j$ between $\\gamma_j$ and $\\gamma_{j+1}$, the TFIM is equivalent to a Majorana fermion chain with nearest neighbor coupling and staggered coupling constants (see illustration below). It is also known as the Kitaev chain.\n"
   ]
  },
  {
   "cell_type": "code",
   "execution_count": null,
   "id": "eaea8e84",
   "metadata": {},
   "outputs": [],
   "source": [
    "L = 4\n",
    "plt.figure(1, figsize=(8,1.2))\n",
    "for j in range(1,L):\n",
    "    #plt.plot([j+.5, j+.5],[-1,1],\"k\")\n",
    "    plt.plot([j+.25, j+.75],[0,0], lw=3, c = \"r\")\n",
    "    plt.text(j+.5, -.2, r\"$J$\", va = \"top\", ha = \"center\" )\n",
    "for j in range(1,L+1):\n",
    "    plt.plot([j-.25, j+.25],[0,0], lw=3, c = \"k\")\n",
    "    plt.text(j-.25, .2, r\"$\\gamma_{%d}$\" % j, va = \"bottom\", ha = \"center\" )\n",
    "    plt.text(j+.25, .2, r\"$\\eta_{%d}$\" % j, va = \"bottom\", ha = \"center\" )\n",
    "    #plt.text(j-.25, .6, r\"$\\psi_{%d}$\" % (2 * j-1), va = \"bottom\", ha = \"center\" )\n",
    "    #plt.text(j+.25, .6, r\"$\\psi_{%d}$\" % (j*2), va = \"bottom\", ha = \"center\" )\n",
    "    \n",
    "    plt.text(j, -.2, r\"$h$\", va = \"top\", ha = \"center\" )\n",
    "plt.plot(np.arange(1,L+1) - .25, np.zeros(L), \"o\", c = \"b\", ms = 10)\n",
    "plt.plot(np.arange(1,L+1) + .25, np.zeros(L), \"o\", c = \"b\", ms = 10)\n",
    "\n",
    "plt.yticks([])\n",
    "plt.xticks(np.arange(L)+1)\n",
    "plt.ylim(-1,1)"
   ]
  },
  {
   "cell_type": "markdown",
   "id": "7d778944",
   "metadata": {},
   "source": [
    "###  Egde zero modes\n",
    "\n",
    "We will take a break from the exact solutin, and study the Majorana chain in the two limits, $h \\gg J$ (trivial paramagnet) and $ J \\gg h$ (trivial ferromagnet).\n",
    "- When $ J = 0$, the Hamiltonian is a sum of commuting Majorana \"pairings\": \n",
    "#### $$H \\propto \\mathrm{i} \\gamma_1\\eta_1 + \\mathrm{i} \\gamma_2 \\eta_2 + \\dots$$\n",
    "Can you find its ground state (you can use the complex fermions if want, but try not to go back to the spin operators)\n",
    "- When $h = 0$, how does the pairing change? Yes, everyone is paired, except the first one and the last one. They are known as edge *zero modes*. **Zero modes are operators that commute with the Hamiltonian.** How many ground states are there? \n",
    "- The degeneracy can be lifted by closing the chain, i.e., adding a $\\propto \\mathrm{i} \\psi_{2L} \\psi_1$ term. Conclude that the periodic Kitaev chain is **not** the periodic TFIM."
   ]
  },
  {
   "cell_type": "markdown",
   "id": "7b48a480",
   "metadata": {},
   "source": [
    "## Solving Majorana free fermion models (lazy way)\n",
    "\n",
    "We now diagonalize the Kitaev chain using general methods for Majorana free fermion models, i.e., throwing the Hamiltonian, as a fermion bilinear form, to the computer. The task of the computer is then to diagonalize a $2L\\times2L$ matrix, which is polynomially hard. In comparison, the many-body Hamiltonian itself is a $2^L \\times 2^L$ matrix.\n",
    "\n",
    "We adopte a more generic notation: \n",
    "#### $$ \\psi_1, \\psi_2, \\psi_3, \\psi_4,  \\dots, \\psi_{2L-1}, \\psi_{2L} = \\gamma_1, \\eta_1, \\gamma_2, \\eta_2, \\dots , \\gamma_L, \\eta_L $$\n",
    "\n",
    "- The TFIM Hamiltonian can be written as \n",
    "#### $$ H = \\frac{\\mathrm{i}}2 \\sum \\psi_j A_{jk} \\psi_k $$\n",
    "where $A_{jk}$ is a $2L\\times 2L$ real antisymmetric matrix. Can you describe it explicitly (answer hidden in the code below)? \n",
    "\n",
    "- Now consider a general $A \\in so(2n)$ like above. A standard result in linear algebra is that, there is an orthogonal matrix $U$ that transforms $A$ into the following normal form:\n",
    "#### $$ U^T A U =  \\begin{pmatrix} & D  \\\\  -D & \\end{pmatrix} \\,,\\, \n",
    "D = \\mathrm{diag}(\\epsilon_1, \\dots, \\epsilon_L)  $$ \n",
    "where $E $ and $\\epsilon_j$'s are positive real numbers (the code below is equivalent to a constructive proof). **In fact**, $\\pm \\mathrm{i} \\epsilon_\\ell, \\ell = 1, \\dots, L$ are the eigenvalues of $A$, and the corresponding eigenvectors are the $\\ell$-th and $(\\ell + L)$-th columns of $U$, respectively.\n",
    "\n",
    "Using this result, show that \n",
    "#### $$ H = \\mathrm{i} \\sum_{\\ell=1}^L \\epsilon_k \\tilde{\\psi}_{\\ell} \\tilde{\\psi}_{\\ell+L}  \\,,\\, \\tilde{\\psi}_\\ell = \\sum_{j} U_{j\\ell} \\psi_j \\,. $$\n",
    "\n",
    "**Important** verify that $\\tilde{\\psi}_\\ell$'s satisfy the same Majorana anticommutation relations, because $U$ is orthogonal. This is why we took the trouble of not diagonalizing $A$ as one would usually done. (See below for more discussion on this)\n",
    "\n",
    "- What can you say about the spectrum of $H$ now? (see answer below)"
   ]
  },
  {
   "cell_type": "code",
   "execution_count": null,
   "id": "82745e76",
   "metadata": {},
   "outputs": [],
   "source": [
    "def getA():\n",
    "    \"\"\" construct the hopping matrix for a Kitaev chain \"\"\"\n",
    "    A = np.zeros((L * 2, L * 2), dtype=float)\n",
    "    A[np.arange(L) * 2, np.arange(L) * 2+1] = h\n",
    "    A[np.arange(L) * 2 + 1, np.arange(L) * 2] = -h\n",
    "    A[np.arange(L-1) * 2 + 1, np.arange(L-1) * 2+2] = J\n",
    "    A[np.arange(L-1) * 2 + 2, np.arange(L-1) * 2+1] = -J\n",
    "    return A\n",
    "def standardform(A):\n",
    "    \"\"\" compute the standard form of a real antisymmetric matrix A \"\"\"\n",
    "    u, epsilons ,v = la.svd(A)\n",
    "    U = np.hstack([u[:,::2], v[::2].T])\n",
    "    \n",
    "    return epsilons[::2], U\n",
    "\n",
    "X = np.array([0,1,1,0]).reshape(2,2)\n",
    "Z = np.array([1,0,0,-1]).reshape(2,2)\n",
    "iY =  np.array([0,1,-1,0]).reshape(2,2)\n",
    "def get_Ising_terms():\n",
    "    Xs = sum([sp.kron(np.identity(2 ** (L-j-1)), sp.kron(X, np.identity(2 ** j)) ) for j in range(L)])\n",
    "    ZZ = sp.kron(Z, Z)\n",
    "    ZZs = sum([sp.kron(np.identity(2 ** (L-j-2)), sp.kron(ZZ, np.identity(2 ** j)) ) for j in range(L-1)])\n",
    "    return Xs, ZZs"
   ]
  },
  {
   "cell_type": "markdown",
   "id": "b5b87233",
   "metadata": {},
   "source": [
    "### Benchmark with ED\n",
    "\n",
    "*This is what you should always do before you use a clever method in your research*"
   ]
  },
  {
   "cell_type": "code",
   "execution_count": null,
   "id": "06b02529",
   "metadata": {},
   "outputs": [],
   "source": [
    "L = 6\n",
    "J = 1\n",
    "h = 2.\n",
    "# JW\n",
    "# ------------------\n",
    "A = getA()\n",
    "epsilons, U = standardform(A)\n",
    "#--------------\n",
    "\n",
    "#ED\n",
    "#------------------\n",
    "Xs, ZZs = get_Ising_terms()\n",
    "H = Xs * h + ZZs * J\n",
    "\n",
    "w, v = sla.eigsh(H, which = \"SA\", k=2)\n",
    "#----------------\n",
    "print(\"ground state by ED\", w[0])\n",
    "print(\"ground state by JW\", -np.sum(epsilons))\n",
    "print(\"gap by ED\", w[1]-w[0])\n",
    "print(\"gap by JW\", 2 * epsilons[-1])"
   ]
  },
  {
   "cell_type": "markdown",
   "id": "2d2e1e34",
   "metadata": {},
   "source": [
    "A look at the A matrix "
   ]
  },
  {
   "cell_type": "code",
   "execution_count": null,
   "id": "90990a29",
   "metadata": {},
   "outputs": [],
   "source": [
    "plt.pcolor(A, cmap = \"RdBu\")\n",
    "plt.ylim(2 *L, 0)\n",
    "plt.colorbar()"
   ]
  },
  {
   "cell_type": "markdown",
   "id": "1a5de018",
   "metadata": {},
   "source": [
    "Check that the standard form works"
   ]
  },
  {
   "cell_type": "code",
   "execution_count": null,
   "id": "fce10b4e",
   "metadata": {},
   "outputs": [],
   "source": [
    "N = U.T @ A @ U\n",
    "plt.pcolor(N, cmap=\"RdBu\")\n",
    "plt.ylim(L*2,0)\n",
    "plt.colorbar()\n",
    "print(epsilons)\n",
    "print(N[np.arange(L), np.arange(L) + L])"
   ]
  },
  {
   "cell_type": "markdown",
   "id": "07b37eea",
   "metadata": {},
   "source": [
    "## Elementary excitations\n",
    "\n",
    "We have seen that the many-body eigenstates of $H$ are of form \n",
    "#### $$ \\pm \\epsilon_1 \\pm \\epsilon_2 \\dots  \\pm \\epsilon_L \\,. $$\n",
    "$2\\epsilon_j$'s are the energy of elementary excitations in this system. We want to understand the low-lying excitations in a large system ($L\\gg 1$). \n",
    "\n",
    "Before further analytical considerations, let us look at them numerically.\n",
    "\n",
    "For this let us parametrize \n",
    "#### $$J = \\sin(\\theta), h = \\cos(\\theta)$$\n",
    "so that $\\theta \\to \\pi / 2 - \\theta$ is the duality transform and $\\theta= \\pi / 4$ is critical.\n",
    "We sweep the phase diagram and compute the excitation energies.\n",
    "\n",
    "Plotting those against $\\theta$, we obtain one of the most important plots of this TD. Take some time to observe it and make many comments (some questions are below)."
   ]
  },
  {
   "cell_type": "code",
   "execution_count": null,
   "id": "0ccfbec6",
   "metadata": {},
   "outputs": [],
   "source": [
    "L = 100\n",
    "#h = 1\n",
    "#Js = np.linspace(0,2, 50)\n",
    "ths = np.linspace(0, np.pi / 2, 101)\n",
    "Eps = np.zeros((len(ths), 100), dtype=float)\n",
    "for k,th in enumerate(ths):\n",
    "    J, h = np.sin(th), np.cos(th)\n",
    "    A = getA()\n",
    "    epsilons, U  = standardform(A)\n",
    "    Eps[k,:] = epsilons[::-1]\n",
    "\n",
    "for j in range(min(20, L)):\n",
    "    l = \"$k = %d$\" % (j+1) if j in [0, 19] else None\n",
    "    plt.plot(ths, Eps[:, j], c = color(1-j / 30), label=l)\n",
    "plt.xlabel(r\"$\\theta = \\arctan(J/h)$\")\n",
    "plt.ylabel(r\"$\\epsilon_k$\")\n",
    "plt.legend()\n",
    "plt.xticks([0, np.pi/4, np.pi/2], [\"0\", r\"$\\pi/4$\", \"$\\pi/2$\"])"
   ]
  },
  {
   "cell_type": "markdown",
   "id": "05d104d2",
   "metadata": {},
   "source": [
    "- What distinguishes the two phases and the critical point?\n",
    "- Would you call the ferro phase gapped or gapless?\n",
    "- Why is the lowest excitation so close to $0$? Do you remember how close (from ED)? \n",
    "- Can you infer the behavior of the correlation length near criticality?"
   ]
  },
  {
   "cell_type": "markdown",
   "id": "bed6952c",
   "metadata": {},
   "source": [
    "## The tight-binding model\n",
    "\n",
    "### Infinite chain\n",
    "\n",
    "- Using Bloch theorem, diagonalize the hopping matrix $A$ in an **infinite** chain. Conclude that the elementary excitation associated with $q \\in [0, \\pi)$ is\n",
    "$$  \\epsilon_q =  |h - J e^{\\mathrm{i} q}|   $$\n",
    "\n",
    "Let us check that against numerics in an open chain of size $L$. \n",
    "- Which $q$'s would we choose (naively)?\n",
    "- How does that work?"
   ]
  },
  {
   "cell_type": "code",
   "execution_count": null,
   "id": "ff44c3e6",
   "metadata": {},
   "outputs": [],
   "source": [
    "L = 32\n",
    "fig, ax = plt.subplots(1,3, figsize = (8,3), sharex = \"all\", sharey = \"all\")\n",
    "text = [\"$h > J$\", \"$h = J$\", \"$h < J$\"]\n",
    "for i, th in enumerate([np.pi/6, np.pi/4, np.pi/3]):\n",
    "    h, J = np.cos(th), np.sin(th)\n",
    "    A = getA()\n",
    "    epsilons, U  = standardform(A)\n",
    "    epsilons = epsilons[::-1]\n",
    "    qs = np.arange(L) / L * np.pi \n",
    "    cut = 32\n",
    "    plt.sca(ax[i])\n",
    "    ls = np.arange(L) + 1\n",
    "    plt.plot(ls, epsilons, \".\", c = \"b\")\n",
    "    plt.plot(ls, np.abs(h - J * np.exp(1.j * qs)), c = \"k\")\n",
    "    plt.xlabel(r\"$\\ell$\",labelpad=-1)\n",
    "    plt.xticks([1, 32])\n",
    "    plt.text(1, 1.3, text[i])\n",
    "    if not i: plt.ylabel(r\"$\\epsilon_{\\ell}$\")\n",
    "plt.subplots_adjust(wspace=.05)"
   ]
  },
  {
   "cell_type": "markdown",
   "id": "4bc582ab",
   "metadata": {},
   "source": [
    "Bloch theory fails miserably with the lowest mode in the $h < J$ phase. So let us look at the single particle wave function of that mode. What do you see? Is it something we encountered before? \n",
    "\n",
    "Yes these are the edge zero modes. When $h \\ll J$, they are completely localized at $\\gamma_1$ and $\\eta_L$. When $h < J$, they are exponentially localized near the left and right edge. \n",
    "\n",
    "- Can we predict the exponential decay rate in the $L\\to\\infty$ limit, by writing a trial wave function (hint: numerics below)\n",
    "- Do we understand why zero modes only exists when $J > h$?\n",
    "- Can we understand the exponential degeneracy?\n",
    "- As mentioned above, zero modes are operators that commute with the Hamiltonian. What are the operators we are taking about here? Argue that they **almost** commute with the Hamiltonian, up to an error that is exponentially small in system size."
   ]
  },
  {
   "cell_type": "code",
   "execution_count": null,
   "id": "0f494614",
   "metadata": {},
   "outputs": [],
   "source": [
    "L = 32\n",
    "th = np.pi / 3\n",
    "h, J = np.cos(th), np.sin(th)\n",
    "A = getA()\n",
    "epsilons, U  = standardform(A)\n",
    "xs = np.arange(L) + 1\n",
    "f, ax= plt.subplots(1,2,figsize = (6,2.5), sharex = \"all\", sharey = \"all\")\n",
    "cs =[\"r\", \"b\"]\n",
    "for i in range(2):\n",
    "    plt.sca(ax[i])\n",
    "    plt.plot(xs,U[::2,-1 + L * i], c = cs[i],label=r\"$\\gamma$\")\n",
    "    plt.plot(xs,U[1::2,-1 + L * i], \"--\", c = cs[i], label=r\"$\\eta$\")\n",
    "    plt.xticks([1, 32])\n",
    "    plt.xlabel(\"$j$\",labelpad=-1)\n",
    "    plt.legend()\n",
    "    if i ==0: plt.ylabel(\"amplitude\")\n"
   ]
  },
  {
   "cell_type": "markdown",
   "id": "74d22a9b",
   "metadata": {},
   "source": [
    "## Final thoughts\n",
    "\n",
    "- What is the spin operator $Z_j$ in terms of Majorana's? \n",
    "\n",
    "This is the price of the JW transform. It transforms the order parameter into a rather complex non-local operator, (sometimes known as a string operator). Meanwhile, the Ising transition acquires a *topological* nature: the ferromagnetic phase is no longer characterized by a local order parameter, but the existence of edge zero modes, which are a general signature of nontrivial topological phases; more precisely, *symmetry protected* topological (SPT) phases. "
   ]
  },
  {
   "cell_type": "markdown",
   "id": "aa2e2205",
   "metadata": {},
   "source": [
    "## (For the curious) Why does J-W transform work? \n",
    "- Take a term in the TFIM, say $X_1$, and compute its commutator with other terms of the TFIM. Then take the resulting operators and compute their commutator with other terms of the TFIM, so on and so forth.\n",
    "- Do you see a pattern? All the operators generated are of type \n",
    "#### $$ O_j X_{j+1} X_{j+2} \\dots X_{k-1} O'_k $$\n",
    "where $O, O'$ are either $Y$ or $Z$. \n",
    "\n",
    "- How many are they in a chain of size $L$? It is very few compared to the dimension of the space of all operators ($4^L$).\n",
    "\n",
    "A generic model will usually generate exponentially many operators, if not all of them. When much fewer are generated, the model is rather easily solveable (the inverse is not true; e.g., Bethe-Ansatz integrable models).  \n",
    "\n",
    "Finally, we note that the global purpose of this course is *not* to solve models exactly (it is quite the opposite). "
   ]
  },
  {
   "cell_type": "code",
   "execution_count": null,
   "id": "d381b9c9",
   "metadata": {},
   "outputs": [],
   "source": []
  }
 ],
 "metadata": {
  "kernelspec": {
   "display_name": "Python 3",
   "language": "python",
   "name": "python3"
  },
  "language_info": {
   "codemirror_mode": {
    "name": "ipython",
    "version": 3
   },
   "file_extension": ".py",
   "mimetype": "text/x-python",
   "name": "python",
   "nbconvert_exporter": "python",
   "pygments_lexer": "ipython3",
   "version": "3.8.8"
  }
 },
 "nbformat": 4,
 "nbformat_minor": 5
}
