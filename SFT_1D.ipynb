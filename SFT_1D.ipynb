{
 "cells": [
  {
   "cell_type": "code",
   "execution_count": 2,
   "id": "7fe5cbb5",
   "metadata": {},
   "outputs": [],
   "source": [
    "#BEGIN\n",
    "import numpy as np\n",
    "import matplotlib.pyplot as plt\n",
    "from matplotlib import rc\n",
    "rc('font', **{ \"size\":16}) #**{,,'serif':['Palatino']\n",
    "rc('text', usetex=True) # turn this off if there is no latex\n",
    "import numpy.random as rnd\n",
    "rnd.seed()\n",
    "import scipy.sparse as sp\n",
    "import scipy.sparse.linalg as sla\n",
    "import scipy.linalg as la\n",
    "from scipy.optimize import brentq as solve\n",
    "from scipy.integrate import odeint as ode\n",
    "from scipy.special import gamma\n",
    "np.set_printoptions(precision = 3, suppress = 1)\n",
    "from matplotlib import cm\n",
    "color = cm.get_cmap(\"Blues\")"
   ]
  },
  {
   "cell_type": "markdown",
   "id": "06e10701",
   "metadata": {},
   "source": [
    "# Physics in 1D: introduction to bosonization\n",
    "\n",
    "Bosonization is an interesting technique to deal with low-energy properties of fermions in one dimension, by mapping them to bosons. In particular, some interacting fermionic models map to free boson models. But to introduce the mapping we need to work on free fermions and free bosons for a while (bear with us). \n",
    "\n",
    "## Non-interacting fermions\n",
    "\n",
    "Consider the simple tight binding model of complex fermions:\n",
    "\n",
    "$$ H = t \\sum_j (c_{j+1}^{\\dagger} c_j + c_{j}^{\\dagger} c_{j+1}) $$\n",
    "\n",
    "- Rewrite the Hamiltonian in terms of the Majorana fermions \n",
    "$$ \\gamma_j =  c_j + c_j^\\dagger \\,,\\,  \\eta_j =  \\mathrm{i} (c_j - c_j^\\dagger) $$\n",
    "(recall also what anticommutation relations they satisfy). Can we make a connection to the Ising model? (See illustration below)"
   ]
  },
  {
   "cell_type": "code",
   "execution_count": 92,
   "id": "a57c6a3f",
   "metadata": {},
   "outputs": [
    {
     "data": {
      "text/plain": [
       "(-1.0, 1.0)"
      ]
     },
     "execution_count": 92,
     "metadata": {},
     "output_type": "execute_result"
    },
    {
     "data": {
      "image/png": "[encoded data removed]",
      "text/plain": [
       "<Figure size 864x86.4 with 1 Axes>"
      ]
     },
     "metadata": {
      "needs_background": "light"
     },
     "output_type": "display_data"
    }
   ],
   "source": [
    "L = 6\n",
    "plt.figure(1, figsize=(12,1.2))\n",
    "for j in range(1,L):\n",
    "    #plt.plot([j+.5, j+.5],[-1,1],\"k\")\n",
    "    plt.plot([j+.25, j+.75],[0,0], lw=3, c = \"r\" if j % 2 else \"k\" )\n",
    "    y = (-1) ** (j % 2) * .5\n",
    "    plt.plot([j-.25, j - .25, j + 1.25, j + 1.25], [0, y, y, 0], c = \"k\" if j % 2 else \"r\", lw=3)\n",
    "    #plt.text(j+.5, -.2, r\"$J$\", va = \"top\", ha = \"center\" )\n",
    "for j in range(1,L+1):\n",
    "    \n",
    "    plt.text(j-.25, .6, r\"$\\gamma_{%d}$\" % j, va = \"bottom\", ha = \"center\" )\n",
    "    plt.text(j+.25, .6, r\"$\\eta_{%d}$\" % j, va = \"bottom\", ha = \"center\" )\n",
    "    #plt.text(j-.25, .6, r\"$\\psi_{%d}$\" % (2 * j-1), va = \"bottom\", ha = \"center\" )\n",
    "    #plt.text(j+.25, .6, r\"$\\psi_{%d}$\" % (j*2), va = \"bottom\", ha = \"center\" )\n",
    "    \n",
    "  #  plt.text(j, -.2, r\"$h$\", va = \"top\", ha = \"center\" )\n",
    "plt.plot(np.arange(1,L+1) - .25, np.zeros(L), \"o\", c = \"b\", ms = 10)\n",
    "plt.plot(np.arange(1,L+1) + .25, np.zeros(L), \"o\", c = \"b\", ms = 10)\n",
    "\n",
    "plt.yticks([])\n",
    "plt.xticks(np.arange(L)+1)\n",
    "plt.ylim(-1,1)"
   ]
  },
  {
   "cell_type": "markdown",
   "id": "c3493076",
   "metadata": {},
   "source": [
    "- By going to momentum space, show that its low-energy excitations are described by a field theory with two chiral fermions, and the following Hamiltonian defined on a ring of size $2\\pi$:\n",
    "\n",
    "$$ H = \\int_0^{2\\pi} \\mathrm{d} x  \\, \\mathrm{i} \\left[ \\psi_L^\\dagger \\partial_x \\psi_L -  \\psi_R^\\dagger \\partial_x \\psi_R \\right] \\propto \\sum_{q \\in \\mathbf{Z} + \\frac12}  \\left[ q \\, \\psi_L^\\dagger(q) \\psi_L(q) -  q \\, \\psi_R^\\dagger(q) \\psi_R(q) \\right] $$\n",
    "\n",
    "We assume that the sum over $q$ is over half-integers for convenience (to avoid zero modes). In practice, this can be done by having a periodic chain with $N$ fermions such that $N \\equiv 2 \\; \\mathrm{mod} \\; 4$. In field theory parlance, $\\psi_{L,R}$ satisfies an antiperiodic boundary condition. (See below for illustration)\n",
    "\n",
    "#### Appendix: Fourier transform convention\n",
    "\n",
    "$$ f(x) = \\sum_q f(q) e^{-i q x}  \\,,\\, f(q) = \\frac1{2\\pi} \\int \\mathrm{d} x f(x) e^{i q x}  $$"
   ]
  },
  {
   "cell_type": "code",
   "execution_count": 96,
   "id": "e0bac0ef",
   "metadata": {},
   "outputs": [
    {
     "data": {
      "text/plain": [
       "Text(0, 0.5, '$\\\\epsilon_q$ (a.u.)')"
      ]
     },
     "execution_count": 96,
     "metadata": {},
     "output_type": "execute_result"
    },
    {
     "data": {
      "image/png": "[encoded data removed]",
      "text/plain": [
       "<Figure size 576x216 with 2 Axes>"
      ]
     },
     "metadata": {
      "needs_background": "light"
     },
     "output_type": "display_data"
    }
   ],
   "source": [
    "L = 50\n",
    "\n",
    "fig, ax = plt.subplots(1,2, figsize = (8,3))\n",
    "plt.sca(ax[0])\n",
    "qs = np.arange(-L//2,L//2) / L * np.pi * 2\n",
    "eps = np.cos(qs) \n",
    "plt.plot(qs[eps < 0], eps[eps < 0], \"o\", c = \"k\", markersize = 6)\n",
    "plt.plot(qs[eps > 0], eps[eps > 0], \"o\", fillstyle=\"none\", c = \"k\", markersize = 6)\n",
    "\n",
    "xs = np.array([qs[0], qs[-1]])\n",
    "plt.plot(xs, 0 * xs, c=\"k\", ls = \"--\")\n",
    "\n",
    "xs = np.linspace(-.5, .5, 3)\n",
    "plt.plot(xs -  np.pi/2, xs, \"r--\", lw = 3 )\n",
    "\n",
    "plt.plot(xs + np.pi/2, -xs, \"b--\", lw = 3 )\n",
    "\n",
    "plt.xlabel(r\"$q a$ ($a$ is lattice spacing)\")\n",
    "plt.ylabel(r\"$\\epsilon_q$\")\n",
    "\n",
    "plt.sca(ax[1])\n",
    "\n",
    "xs = np.arange(-4, 4) + .5\n",
    "\n",
    "plt.plot(xs[xs > 0], xs[xs > 0], \"o\", c = \"k\", fillstyle=\"none\",)\n",
    "plt.plot(xs[xs < 0], xs[xs < 0], \"o\", c = \"k\")\n",
    "plt.plot(xs, xs, \"r--\", lw= 1)\n",
    "\n",
    "plt.plot(xs[xs > 0], -xs[xs > 0], \"o\", c = \"k\",)\n",
    "plt.plot(xs[xs < 0], -xs[xs < 0], \"o\", c = \"k\",  fillstyle=\"none\",)\n",
    "\n",
    "plt.plot(xs, -xs, \"b--\", lw= 1)\n",
    "plt.xlabel(r\"$q$ (shifted and rescaled)\")\n",
    "plt.ylabel(r\"$\\epsilon_q$ (a.u.)\", labelpad = -5)\n"
   ]
  },
  {
   "cell_type": "markdown",
   "id": "6b5c777d",
   "metadata": {},
   "source": [
    "## Free bosons in (1+1)-d\n",
    "\n",
    "We now take a break from the fermions and look at a 2D GFF on a cylinder of length $2\\pi$. The Euclidean action is \n",
    "\n",
    "$$ S = \\frac1{4 \\pi} \\int_{\\mathbb{R}} \\mathrm{d} \\tau \\int_{0}^{2\\pi} \\mathrm{d} x  \\left[ (\\partial_\\tau \\phi)^2 + (\\partial_x \\phi)^2  \\right]  $$\n",
    "\n",
    "Recall that the Green function is logarithmically divergent\n",
    "$$ \\left< \\phi(x) \\phi(0) \\right> \\sim - \\ln |x| \\,,\\, |x| \\to 0 \\,. $$ \n",
    "\n",
    "- Quantize the path integral and show that the quantum Hamiltonian is as follows in the momentum space\n",
    "$$ H \\propto \\sum_{k = 1}^\\infty  a_{k}^\\dagger a_{k} + \\sum_{k = 1}^\\infty  b_{k}^\\dagger b_{k}  + H_0 \\,,\\, H_0 \\propto \\pi_0^2  $$\n",
    "Here $H_0$ governs the unbounded zero mode fluctuation, which we usually eliminate (by requiring that the GFF has no zero mode). \n",
    "\n",
    "\n",
    "The ladder operators \n",
    "$$a_k = \\frac1{\\sqrt{2}} (\\pi_k - \\mathrm{i} k \\phi_k) , b_k = \\frac1{\\sqrt{2}} (\\pi_{-k} - \\mathrm{i} k \\phi_{-k}) $$ satisfy the **boson algebra** \n",
    "$$ [a_k, a_j^{\\dagger}] = [b_k, b_j^{\\dagger}] = k \\delta_{jk} \\,. $$\n",
    "It is also useful to note that $a_{-k} = a_k^\\dagger$, $b_{-k} = b_k^\\dagger$. Physically, the decomposed the nonzero modes of the (1+1)-d free boson into left and right moving modes. Classically, the solutions to the wave equation $ (\\partial_t^2 - \\partial_x^2) \\phi = 0$ can be always decomposed into left and right moving waves, $\\phi = \\phi_L(x + t) + \\phi_R(x - t)$. "
   ]
  },
  {
   "cell_type": "markdown",
   "id": "816c8aa5",
   "metadata": {},
   "source": [
    "## Boson algebra from fermion Fock space\n",
    "\n",
    "This is the heart of bosonization: a representation of the boson algebra in the Fock space of one chiral fermion, say $\\psi = \\psi_L$. Its creation and annihilation operators in the momentum space have anticommutation relations \n",
    "$$ \\{ \\psi_q, \\psi_{q'}^\\dagger \\} = \\delta_{p,q'} $$\n",
    "\n",
    "**Claim**. The operators\n",
    "$$ \\boxed{n_k := \\sum_{q} \\psi_q^\\dagger \\psi_{q + k}} \\,,\\, k \\in \\mathbb{Z} \\setminus \\{0\\}$$\n",
    "Satisfies the boson algebra, namely $[n_j, n_{k}^\\dagger] = k \\delta_{j,k}$, **if** we restrict to the Fock space of states that are a finite number of excitations away from the Fermi sea vacuum.\n",
    "\n",
    "One can prove this algebraically. A nice \"combinatorial\" way to understand this is to count the number of eligible particle-hole pairs $n_{k}$ can act on. See the demonstration below. The point is that there are always $k$ more eligible pairs for $n_k^\\dagger$ (creation) than for $n_k$ (annihilation). The logic is similar to the infinite hotel paradox.\n",
    "\n",
    "- How does that work for $\\psi_R$?"
   ]
  },
  {
   "cell_type": "code",
   "execution_count": 156,
   "id": "29100607",
   "metadata": {},
   "outputs": [
    {
     "data": {
      "image/png": "[encoded data removed]",
      "text/plain": [
       "<Figure size 720x216 with 1 Axes>"
      ]
     },
     "metadata": {
      "needs_background": "light"
     },
     "output_type": "display_data"
    }
   ],
   "source": [
    "k = 2  # number of \n",
    "qmax = 7\n",
    "\n",
    "#fig,ax = plt.subplots(2,1, figsize = (10, 3))\n",
    "plt.figure(1, figsize = (10, 3))\n",
    "########### Fermi sea\n",
    "qs = np.arange(qmax * 2) - qmax + .5\n",
    "occupy = np.zeros(qmax * 2, dtype=int)\n",
    "occupy[:qmax] = 1\n",
    "\n",
    "############# some random excitations\n",
    "\n",
    "particles = np.array([1,2,])\n",
    "holes = np.array([2,3])\n",
    "\n",
    "occupy[particles + qmax - 1] = 1\n",
    "\n",
    "occupy[-holes + qmax] = 0\n",
    "\n",
    "\n",
    "#############\n",
    "#plt.sca(ax[0])\n",
    "plt.scatter(qs, qs * 0, c = occupy, cmap = \"Blues\", edgecolor = \"k\")\n",
    "plt.xlim(-qmax , qmax  )\n",
    "#plt.yticks([])\n",
    "#plt.sca(ax[1])\n",
    "#plt.scatter(qs + k, qs * 0 - 1, c = occupy, cmap = \"Blues\", edgecolor = \"k\")\n",
    "#plt.xlim(-qmax - k, qmax + k)\n",
    "\n",
    "plt.yticks([])\n",
    "#plt.xticks(qs, [r\"$\\frac{%d}{2}$\" % (q * 2) for q in qs])\n",
    "\n",
    "for j in range(qmax * 2 - k):\n",
    "    if occupy[j] and not occupy[j + k]:\n",
    "        x1, x2 = qs[j], qs[j+k]\n",
    "        ths = np.linspace(0, np.pi, 50)\n",
    "        plt.plot(np.cos(ths) * (x1 - x2)/2 + (x1 + x2) / 2, np.sin(ths) / 2 * k, c = \"b\")\n",
    "    if not occupy[j] and occupy[j + k]:\n",
    "        x1, x2 = qs[j], qs[j+k]\n",
    "        ths = np.linspace(0, np.pi, 50)\n",
    "        plt.plot(np.cos(ths) * (x1 - x2)/2 + (x1 + x2) / 2, -np.sin(ths) / 2 * k, c = \"r\")\n",
    "plt.ylim(- k / 2, k / 2)\n",
    "#\n",
    "plt.gca().set_aspect(\"equal\")\n",
    "#plt.title(\"$k = %d$, \" % k)\n",
    "plt.subplots_adjust(hspace = .2)"
   ]
  },
  {
   "cell_type": "markdown",
   "id": "dbe59d26",
   "metadata": {},
   "source": [
    "## Application: calculating $\\Delta_{\\sigma}$ of Ising\n",
    "\n",
    "\n",
    "$$ \\{ \\psi_q^\\dagger, \\psi_q \\} =  1 \\implies \\{ \\psi(x),  \\psi(y) \\} = 2 \\pi \\delta(x - y) $$\n",
    "\n",
    "Therefore\n",
    "$$ \\psi(x)_L^\\dagger \\psi_L(x) +  \\psi(x)_R^\\dagger \\psi_R(x) = 2\\pi n(x) $$\n",
    "\n",
    "On the other hand, with boson representation \n",
    "\n",
    "$$  \\psi(x)_L^\\dagger \\psi_L(x) +  \\psi(x)_R^\\dagger \\psi_R(x) = \\sqrt{2}\\partial_x \\phi(x)  $$\n",
    "\n",
    "\n",
    "$$ \\prod_{j=x_1}^{x_2} (-1)^{c_j^\\dagger c_j} =  \\exp( \\mathrm{i} \\pi \\int_{x_1}^{x_2} n(y) \\mathrm{d} y ) = \\exp\\left( \\frac{\\mathrm{i}}{\\sqrt{2}} (\\phi(x_2) - \\phi(x_1)) \\right) \\propto |x_2 - x_1|^{1/2}$$\n",
    "\n",
    "Now since one fermion chain is two Ising chains (see above, and $ \\prod_{j=x_1}^{x_2} (-1)^{c_j^\\dagger c_j} $ maps to a string of $\\gamma$'s, which in turn maps to $Z_{x_1} Z_{x_2}$ via Jordan-Wigner)\n",
    "\n",
    "$$ 2 \\Delta_{\\sigma} = \\frac14$$"
   ]
  },
  {
   "cell_type": "code",
   "execution_count": 72,
   "id": "7faa24e1",
   "metadata": {},
   "outputs": [
    {
     "data": {
      "text/plain": [
       "Text(0, 0.5, '$\\\\prod_{j \\\\le x} (-1)^{n_j}$')"
      ]
     },
     "execution_count": 72,
     "metadata": {},
     "output_type": "execute_result"
    },
    {
     "data": {
      "image/png": "[encoded data removed]",
      "text/plain": [
       "<Figure size 432x288 with 1 Axes>"
      ]
     },
     "metadata": {
      "needs_background": "light"
     },
     "output_type": "display_data"
    }
   ],
   "source": [
    "for lb in np.arange(6, 12, 2):\n",
    "    L = 2 ** lb \n",
    "    es = np.cos(np.arange(L) / L * np.pi * 2)\n",
    "    index =  (es <= 0) \n",
    "    gr = np.fft.fft(np.identity(L)[index], axis = 1) / L ** .5\n",
    "    gr1 = np.array(gr)\n",
    "    res = []\n",
    "    xs = 2 ** np.arange(0,lb) \n",
    "    for j in xs:\n",
    "        gr1[:,:] = gr\n",
    "        gr1[:, :j] *= -1\n",
    "        res.append(la.det( gr @ gr1.T.conj()).real)\n",
    "    plt.loglog(xs[2:], res[2:], \"o-\", label=r\"$L=2^{%d}$\"% lb)\n",
    "plt.ylim(1e-2, 1)\n",
    "plt.plot(xs, xs ** -.5 / 2, \"k\", label= r\"$\\propto x^{-1/2}$\")\n",
    "plt.legend()\n",
    "plt.xlabel(\"$x$\")\n",
    "plt.ylabel(\"$\\prod_{j \\le x} (-1)^{n_j}$\")"
   ]
  },
  {
   "cell_type": "code",
   "execution_count": null,
   "id": "46a84ecf",
   "metadata": {},
   "outputs": [],
   "source": []
  }
 ],
 "metadata": {
  "kernelspec": {
   "display_name": "Python 3",
   "language": "python",
   "name": "python3"
  },
  "language_info": {
   "codemirror_mode": {
    "name": "ipython",
    "version": 3
   },
   "file_extension": ".py",
   "mimetype": "text/x-python",
   "name": "python",
   "nbconvert_exporter": "python",
   "pygments_lexer": "ipython3",
   "version": "3.8.8"
  }
 },
 "nbformat": 4,
 "nbformat_minor": 5
}
