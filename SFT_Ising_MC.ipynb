{
 "cells": [
  {
   "cell_type": "code",
   "execution_count": null,
   "metadata": {},
   "outputs": [],
   "source": [
    "## BEGIN\n",
    "import numpy as np\n",
    "import matplotlib.pyplot as plt\n",
    "from matplotlib import rc\n",
    "rc('font', **{ \"size\":16}) #**{,,'serif':['Palatino']\n",
    "rc('text', usetex=True)\n",
    "import numpy.random as rnd\n",
    "rnd.seed()\n",
    "import scipy.sparse as sp\n",
    "import scipy.sparse.linalg as sla\n",
    "import scipy.linalg as la\n",
    "import pickle as cp\n",
    "import scipy.optimize as opt\n",
    "from scipy.optimize import curve_fit as fit\n",
    "#import mps\n",
    "import cProfile\n",
    "import subprocess\n",
    "from scipy.special import hyp2f1, erf\n",
    "from scipy.optimize import brentq\n",
    "\n",
    "import itertools"
   ]
  },
  {
   "cell_type": "code",
   "execution_count": null,
   "metadata": {},
   "outputs": [],
   "source": [
    "def prepare_graph(L, cut_boundary = 0, **kwargs):\n",
    "    xy2i = lambda x,y:x*L + y\n",
    "    xs, ys =  np.arange(L**2) // L, np.arange(L**2) % L\n",
    "    xp, xm = (xs + 1) % L, (xs - 1) % L\n",
    "    yp, ym = (ys + 1) % L, (ys - 1) % L\n",
    "\n",
    "\n",
    "    matrix = sp.coo_matrix((L**2, L**2), dtype= int)\n",
    "    inds = np.array([ xy2i(xp, ys), xy2i(xm, ys), \n",
    "                     xy2i(xs , yp), xy2i(xs, ym)]).T.reshape(-1)\n",
    "    data = np.ones_like(inds, dtype=int)\n",
    "    indptr = np.arange(L ** 2 + 1) * 4\n",
    "    full_graph = sp.csc_matrix((data, inds, indptr),shape=(L**2, L**2))\n",
    "\n",
    "    ## cut all the boundaries\n",
    "    if 0:\n",
    "        lil = full_graph.tolil()\n",
    "        lil[:L, -L:] = 0\n",
    "        lil[-L:, :L] = 0\n",
    "        lil[::L, L-1::L] = 0\n",
    "        lil[L-1::L, ::L] = 0\n",
    "        full_graph = lil.tocsc()\n",
    "    ##############\n",
    "\n",
    "    edges = sp.coo_matrix(full_graph)\n",
    "    ut_ind = edges.row > edges.col\n",
    "    edges = sp.coo_matrix((edges.data[ut_ind], (edges.row[ut_ind], edges.col[ut_ind])), shape = (L**2,L**2))\n",
    "    #degree = np.diff(full_graph.indptr)\n",
    "    return full_graph, edges"
   ]
  },
  {
   "cell_type": "markdown",
   "metadata": {},
   "source": [
    "# Ising model on the square lattice\n",
    "\n",
    "##  Fortuin-Kasterleyn (FK) cluster Monte Carlo (optional)\n",
    "\n",
    "For the curious, I am using a cluster algorithm based on the Fortuin-Kasterleyn (FK) representation. \n",
    "It is a slightly different high-$T$ expansion of the Ising model. One starts by rewriting the Boltzmann weight on a bond as follows\n",
    "$$ e^{K \\sigma \\sigma'} \\propto (1 + x \\delta_{\\sigma, \\sigma'}) \\,,\\, x = e^{2K}-1 $$\n",
    "Doing this for all bonds, we obtain an expansion of the partition function as a sum of \"FK cluster\" configurations. The relative weight of a FK cluster configuration is \n",
    "$$ w^{\\text{number of active bonds}} (1-w)^{\\text{number of inactive bonds}} Q^{\\text{number of clusters}} $$\n",
    "where \n",
    "$$ w = \\frac{x}{1+x} = 1-e^{-2K} $$\n",
    "and $$Q = 2 \\; \\text{(Ising)}$$\n",
    "(For general $Q$, we get the $Q$-state Potts model). The active bonds are the ones we chose the term $\\delta_{\\sigma, \\sigma'}$; a cluster is a connected component of the graph formed by the active bonds. \n",
    "\n",
    "The FK representation defines a joint distribution of cluster and spin configurations, $(C, \\sigma)$. We have the conditional probability \n",
    "$$\n",
    "P(\\sigma | C) = Q^{-\\text{number of clusters}} \\,,\\, \n",
    "$$\n",
    "if the $\\sigma$ is such that the sites of each FK cluster have the same spin. Otherwise $P(\\sigma|C) = 0$. So it is easy to sample $\\sigma$ given $C$: we choose a spin value for each FK cluster randomly and independently. \n",
    "\n",
    "Moreover it is also easy to sample $C$ given $\\sigma$. By Bayes rule\n",
    "$$\n",
    "P(C | \\sigma) \\propto w^{\\text{number of active bonds}} (1-w)^{\\text{number of inactive bonds}} \\,,\\, \n",
    "$$\n",
    "if the sites of each FK cluster have the same spin. Therefore, to sample $C$ given $\\sigma$, \n",
    "- all the bonds with disaligned spin must be inactive;\n",
    "- for each bond with aligned spin, it is acitve with probability $w$. \n",
    "\n",
    "The Monte Carlo algorithm starts from any configuration (say, of spin) $\\sigma_0$, samples a cluster configuration $C_1$ conditioned on it, and then sample a new spin configuration $\\sigma_1$ conditioned on $C_1$, so on and so forth. Compared to Metropolis Monte Carlo based on local updates, cluster algorithms (or loop algorithms) suffer less from the *critical slowdown*."
   ]
  },
  {
   "cell_type": "markdown",
   "metadata": {},
   "source": [
    "## Some nice pictures first"
   ]
  },
  {
   "cell_type": "code",
   "execution_count": null,
   "metadata": {},
   "outputs": [],
   "source": [
    "lb = 6\n",
    "L = 2 ** lb\n",
    "full_graph, edges = prepare_graph(L)\n",
    "spin = np.zeros(L**2, dtype=int)\n",
    "w = 2 - 2 ** .5 # critical point "
   ]
  },
  {
   "cell_type": "code",
   "execution_count": null,
   "metadata": {},
   "outputs": [],
   "source": [
    "# do 50 Monte Carlo updates \n",
    "for j in range(50):\n",
    "\n",
    "    same = (spin[edges.row] == spin[edges.col])  \n",
    "    \n",
    "    edges.data[:] = 0\n",
    "    edges.data[same] = (rnd.rand(np.sum(same)) < w) # same color: throw a dice\n",
    "   \n",
    "    FK_graph = edges.tocsc()\n",
    "    FK_graph.eliminate_zeros()\n",
    "    n_cl, FK_clusters = sp.csgraph.connected_components(FK_graph, directed=0, return_labels=1)\n",
    "    \n",
    "    FK_spin = rnd.randint(2, size = n_cl) * 2 - 1\n",
    "    spin[:] = FK_spin[FK_clusters]"
   ]
  },
  {
   "cell_type": "code",
   "execution_count": null,
   "metadata": {},
   "outputs": [],
   "source": [
    "# FK clusters takes lots of time to plot\n",
    "\n",
    "plot_FK = 1\n",
    "\n",
    "plt.figure(1, figsize = (10,10))\n",
    "plt.pcolor(spin.reshape(-1, L).T, cmap = \"RdBu\", vmin = -3, vmax = 1)\n",
    "xs, ys =  np.arange(L**2) // L, np.arange(L**2) % L\n",
    "if plot_FK:\n",
    "    for k, (i,j) in enumerate(zip(edges.row, edges.col)):\n",
    "        #diff = spin[1] \n",
    "        #d = edges.data[k]\n",
    "        if FK_clusters[i] == FK_clusters[j]: continue\n",
    "\n",
    "        z1, z2 = xs[i] +.5 + 1.j*(ys[i]+.5), (xs[j]+.5) + 1.j * (ys[j] + .5)\n",
    "        if abs(z1 - z2) > 2: continue\n",
    "        zm = (z1 +z2)/2\n",
    "        w1 = (z1 - zm) * 1.j + zm\n",
    "        w2 = 2 * zm - w1\n",
    "        plt.plot([w1.real, w2.real], [w1.imag, w2.imag], c = \"red\")\n",
    "plt.gca().set_aspect('equal')\n"
   ]
  },
  {
   "cell_type": "markdown",
   "metadata": {},
   "source": [
    "## Spin spin correlation (two point function)"
   ]
  },
  {
   "cell_type": "code",
   "execution_count": null,
   "metadata": {},
   "outputs": [],
   "source": [
    "res_2p = dict()"
   ]
  },
  {
   "cell_type": "code",
   "execution_count": null,
   "metadata": {},
   "outputs": [],
   "source": [
    "for lb in [6,7,8]:\n",
    "    L = 2 ** lb\n",
    "    print(\"L = %d\" % L)\n",
    "    full_graph, edges = prepare_graph(L)\n",
    "    \n",
    "    w = 2 - 2 ** .5 # critical point\n",
    "    if not (w, lb) in res_2p:\n",
    "        spin = np.zeros(L**2, dtype=int)\n",
    "        rs = np.sort(np.hstack([2 ** np.arange(lb), 3 * 2 ** np.arange(lb-1)]))\n",
    "        ans = np.zeros(len(rs)+1,)\n",
    "        res_2p[w,lb] = (rs, ans, spin)\n",
    "    else:\n",
    "        rs, ans, spin = res_2p[w,lb]\n",
    "\n",
    "#get spin clusters\n",
    "    for j in range(500):\n",
    "        \n",
    "        # start from 4-state\n",
    "        same = (spin[edges.row] == spin[edges.col])  \n",
    "        #red = (spin[edges.row] + spin[edges.col] == 3)\n",
    "        edges.data[:] = 0\n",
    "        edges.data[same] = (rnd.rand(np.sum(same)) < w) # same color: throw a dice\n",
    "        #edges.data[red] = 1 # \n",
    "        FK_graph = edges.tocsc()\n",
    "        FK_graph.eliminate_zeros()\n",
    "        n_cl, FK_clusters = sp.csgraph.connected_components(FK_graph, directed=0, return_labels=1)\n",
    "\n",
    "        FK_spin = rnd.randint(2, size = n_cl) * 2 - 1\n",
    "        #FK_spin[np.unique(FK_clusters[ind_boundary])] *= 0\n",
    "        spin[:] = FK_spin[FK_clusters]\n",
    "        #print(n_cl, end = \" \")\n",
    "\n",
    "        # calculate 2p function\n",
    "        if ans[0] == 0 and j < 50: continue\n",
    "        for k,x in enumerate(rs):\n",
    "            intersect = (spin.reshape(L,L) * np.roll(spin.reshape(L,L), x, axis = 1))\n",
    "            ans[k+1] += (np.sum(intersect) / L ** 2)\n",
    "        ans[0] += 1"
   ]
  },
  {
   "cell_type": "markdown",
   "metadata": {},
   "source": [
    "Comment on the two point functions in different system sizes below. \n",
    "Again, remember $\\Delta_{\\sigma} = 1/8$ in 2D Ising. How is that reflected in the two point function?"
   ]
  },
  {
   "cell_type": "code",
   "execution_count": null,
   "metadata": {},
   "outputs": [],
   "source": [
    "for (w, lb), (rs, ans, spin) in res_2p.items():\n",
    "    plt.loglog(rs, ans[1:] / ans[0], \"o-\", label=\"$L=2^{%d}$\" % lb)\n",
    "   \n",
    "    plt.xlabel(\"$r$\")\n",
    "    plt.ylabel(r\"$\\left< \\sigma_{0,0} \\sigma_{r,0} \\right>$\")\n",
    "plt.plot(rs, rs ** (-1/4) / 1.5)\n",
    "plt.legend()"
   ]
  },
  {
   "cell_type": "markdown",
   "metadata": {},
   "source": [
    "The same data, plotted from a long-distance/field theory point of view. \n",
    "How do we collapse the data? "
   ]
  },
  {
   "cell_type": "code",
   "execution_count": null,
   "metadata": {},
   "outputs": [],
   "source": [
    "for (w, lb), (rs, ans, spin) in sorted(res_2p.items())[::-1]:\n",
    "    L =  2 ** lb\n",
    "    plt.loglog(rs / L, ans[1:] / ans[0] * L ** (.25) , \"o-\", label=\"$L=2^{%d}$\" % lb )\n",
    "   \n",
    "    plt.xlabel(\"$r / L$\")\n",
    "    plt.ylabel(r\"$\\left< \\left< \\sigma_{0,0} \\sigma_{r,0} \\right> \\right> L^{2\\Delta}$\")\n",
    "plt.legend()"
   ]
  },
  {
   "cell_type": "markdown",
   "metadata": {},
   "source": [
    "The quantity of the $y$ axis above is the two-point function of a *scaling operator*, defined as\n",
    "### $$ \\sigma_{\\text{scaling}}(x) = \\sigma_{\\text{lattice}}(r = x L) L^{\\Delta_{\\sigma}}$$"
   ]
  },
  {
   "cell_type": "code",
   "execution_count": null,
   "metadata": {},
   "outputs": [],
   "source": []
  }
 ],
 "metadata": {
  "kernelspec": {
   "display_name": "Python 3",
   "language": "python",
   "name": "python3"
  },
  "language_info": {
   "codemirror_mode": {
    "name": "ipython",
    "version": 3
   },
   "file_extension": ".py",
   "mimetype": "text/x-python",
   "name": "python",
   "nbconvert_exporter": "python",
   "pygments_lexer": "ipython3",
   "version": "3.8.8"
  }
 },
 "nbformat": 4,
 "nbformat_minor": 2
}
